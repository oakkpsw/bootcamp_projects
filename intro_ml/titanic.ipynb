{
 "cells":[
  {
   "cell_type":"code",
   "source":[
    "install.packages(\"titanic\")\n",
    "\n",
    "\n",
    "#Import required library\n",
    "library(\"titanic\")\n",
    "library(tidyverse)"
   ],
   "execution_count":1,
   "outputs":[
    {
     "name":"stderr",
     "text":[
      "Updating HTML index of packages in '.Library'\n",
      "\n",
      "Making 'packages.html' ...\n",
      " done\n",
      "\n",
      "Warning message in system(\"timedatectl\", intern = TRUE):\n",
      "“running command 'timedatectl' had status 1”\n",
      "Warning message:\n",
      "“Failed to locate timezone database”\n",
      "── \u001b[1mAttaching packages\u001b[22m ─────────────────────────────────────── tidyverse 1.3.1 ──\n",
      "\n",
      "\u001b[32m✔\u001b[39m \u001b[34mggplot2\u001b[39m 3.3.5     \u001b[32m✔\u001b[39m \u001b[34mpurrr  \u001b[39m 0.3.4\n",
      "\u001b[32m✔\u001b[39m \u001b[34mtibble \u001b[39m 3.1.5     \u001b[32m✔\u001b[39m \u001b[34mdplyr  \u001b[39m 1.0.7\n",
      "\u001b[32m✔\u001b[39m \u001b[34mtidyr  \u001b[39m 1.1.4     \u001b[32m✔\u001b[39m \u001b[34mstringr\u001b[39m 1.4.0\n",
      "\u001b[32m✔\u001b[39m \u001b[34mreadr  \u001b[39m 2.0.2     \u001b[32m✔\u001b[39m \u001b[34mforcats\u001b[39m 0.5.1\n",
      "\n",
      "── \u001b[1mConflicts\u001b[22m ────────────────────────────────────────── tidyverse_conflicts() ──\n",
      "\u001b[31m✖\u001b[39m \u001b[34mdplyr\u001b[39m::\u001b[32mfilter()\u001b[39m  masks \u001b[34mstats\u001b[39m::filter()\n",
      "\u001b[31m✖\u001b[39m \u001b[34mpurrr\u001b[39m::\u001b[32mflatten()\u001b[39m masks \u001b[34mjsonlite\u001b[39m::flatten()\n",
      "\u001b[31m✖\u001b[39m \u001b[34mdplyr\u001b[39m::\u001b[32mlag()\u001b[39m     masks \u001b[34mstats\u001b[39m::lag()\n",
      "\n"
     ],
     "output_type":"stream"
    }
   ],
   "metadata":{
    "datalore":{
     "node_id":"e9WNf7fXPLeYdxHl2n1w6C",
     "type":"CODE",
     "hide_input_from_viewers":false,
     "hide_output_from_viewers":false
    }
   }
  },
  {
   "cell_type":"code",
   "source":[
    "head(titanic_train)"
   ],
   "execution_count":2,
   "outputs":[
    {
     "data":{
      "text\/html":[
       "<table class=\"dataframe\">\n",
       "<caption>A data.frame: 6 × 12<\/caption>\n",
       "<thead>\n",
       "\t<tr><th><\/th><th scope=col>PassengerId<\/th><th scope=col>Survived<\/th><th scope=col>Pclass<\/th><th scope=col>Name<\/th><th scope=col>Sex<\/th><th scope=col>Age<\/th><th scope=col>SibSp<\/th><th scope=col>Parch<\/th><th scope=col>Ticket<\/th><th scope=col>Fare<\/th><th scope=col>Cabin<\/th><th scope=col>Embarked<\/th><\/tr>\n",
       "\t<tr><th><\/th><th scope=col>&lt;int&gt;<\/th><th scope=col>&lt;int&gt;<\/th><th scope=col>&lt;int&gt;<\/th><th scope=col>&lt;chr&gt;<\/th><th scope=col>&lt;chr&gt;<\/th><th scope=col>&lt;dbl&gt;<\/th><th scope=col>&lt;int&gt;<\/th><th scope=col>&lt;int&gt;<\/th><th scope=col>&lt;chr&gt;<\/th><th scope=col>&lt;dbl&gt;<\/th><th scope=col>&lt;chr&gt;<\/th><th scope=col>&lt;chr&gt;<\/th><\/tr>\n",
       "<\/thead>\n",
       "<tbody>\n",
       "\t<tr><th scope=row>1<\/th><td>1<\/td><td>0<\/td><td>3<\/td><td>Braund, Mr. Owen Harris                            <\/td><td>male  <\/td><td>22<\/td><td>1<\/td><td>0<\/td><td>A\/5 21171       <\/td><td> 7.2500<\/td><td>    <\/td><td>S<\/td><\/tr>\n",
       "\t<tr><th scope=row>2<\/th><td>2<\/td><td>1<\/td><td>1<\/td><td>Cumings, Mrs. John Bradley (Florence Briggs Thayer)<\/td><td>female<\/td><td>38<\/td><td>1<\/td><td>0<\/td><td>PC 17599        <\/td><td>71.2833<\/td><td>C85 <\/td><td>C<\/td><\/tr>\n",
       "\t<tr><th scope=row>3<\/th><td>3<\/td><td>1<\/td><td>3<\/td><td>Heikkinen, Miss. Laina                             <\/td><td>female<\/td><td>26<\/td><td>0<\/td><td>0<\/td><td>STON\/O2. 3101282<\/td><td> 7.9250<\/td><td>    <\/td><td>S<\/td><\/tr>\n",
       "\t<tr><th scope=row>4<\/th><td>4<\/td><td>1<\/td><td>1<\/td><td>Futrelle, Mrs. Jacques Heath (Lily May Peel)       <\/td><td>female<\/td><td>35<\/td><td>1<\/td><td>0<\/td><td>113803          <\/td><td>53.1000<\/td><td>C123<\/td><td>S<\/td><\/tr>\n",
       "\t<tr><th scope=row>5<\/th><td>5<\/td><td>0<\/td><td>3<\/td><td>Allen, Mr. William Henry                           <\/td><td>male  <\/td><td>35<\/td><td>0<\/td><td>0<\/td><td>373450          <\/td><td> 8.0500<\/td><td>    <\/td><td>S<\/td><\/tr>\n",
       "\t<tr><th scope=row>6<\/th><td>6<\/td><td>0<\/td><td>3<\/td><td>Moran, Mr. James                                   <\/td><td>male  <\/td><td>NA<\/td><td>0<\/td><td>0<\/td><td>330877          <\/td><td> 8.4583<\/td><td>    <\/td><td>Q<\/td><\/tr>\n",
       "<\/tbody>\n",
       "<\/table>\n"
      ]
     },
     "metadata":{
      
     },
     "output_type":"display_data"
    }
   ],
   "metadata":{
    "datalore":{
     "node_id":"kxYpPmyDHO11YwLTRcBBok",
     "type":"CODE",
     "hide_input_from_viewers":false,
     "hide_output_from_viewers":false
    }
   }
  },
  {
   "cell_type":"code",
   "source":[
    "glimpse(titanic_train)"
   ],
   "execution_count":3,
   "outputs":[
    {
     "name":"stdout",
     "text":[
      "Rows: 891\n",
      "Columns: 12\n",
      "$ PassengerId \u001b[3m\u001b[90m<int>\u001b[39m\u001b[23m 1, 2, 3, 4, 5, 6, 7, 8, 9, 10, 11, 12, 13, 14, 15, 16, 17,…\n",
      "$ Survived    \u001b[3m\u001b[90m<int>\u001b[39m\u001b[23m 0, 1, 1, 1, 0, 0, 0, 0, 1, 1, 1, 1, 0, 0, 0, 1, 0, 1, 0, 1…\n",
      "$ Pclass      \u001b[3m\u001b[90m<int>\u001b[39m\u001b[23m 3, 1, 3, 1, 3, 3, 1, 3, 3, 2, 3, 1, 3, 3, 3, 2, 3, 2, 3, 3…\n",
      "$ Name        \u001b[3m\u001b[90m<chr>\u001b[39m\u001b[23m \"Braund, Mr. Owen Harris\", \"Cumings, Mrs. John Bradley (Fl…\n",
      "$ Sex         \u001b[3m\u001b[90m<chr>\u001b[39m\u001b[23m \"male\", \"female\", \"female\", \"female\", \"male\", \"male\", \"mal…\n",
      "$ Age         \u001b[3m\u001b[90m<dbl>\u001b[39m\u001b[23m 22, 38, 26, 35, 35, NA, 54, 2, 27, 14, 4, 58, 20, 39, 14, …\n",
      "$ SibSp       \u001b[3m\u001b[90m<int>\u001b[39m\u001b[23m 1, 1, 0, 1, 0, 0, 0, 3, 0, 1, 1, 0, 0, 1, 0, 0, 4, 0, 1, 0…\n",
      "$ Parch       \u001b[3m\u001b[90m<int>\u001b[39m\u001b[23m 0, 0, 0, 0, 0, 0, 0, 1, 2, 0, 1, 0, 0, 5, 0, 0, 1, 0, 0, 0…\n",
      "$ Ticket      \u001b[3m\u001b[90m<chr>\u001b[39m\u001b[23m \"A\/5 21171\", \"PC 17599\", \"STON\/O2. 3101282\", \"113803\", \"37…\n",
      "$ Fare        \u001b[3m\u001b[90m<dbl>\u001b[39m\u001b[23m 7.2500, 71.2833, 7.9250, 53.1000, 8.0500, 8.4583, 51.8625,…\n",
      "$ Cabin       \u001b[3m\u001b[90m<chr>\u001b[39m\u001b[23m \"\", \"C85\", \"\", \"C123\", \"\", \"\", \"E46\", \"\", \"\", \"\", \"G6\", \"C…\n",
      "$ Embarked    \u001b[3m\u001b[90m<chr>\u001b[39m\u001b[23m \"S\", \"C\", \"S\", \"S\", \"S\", \"Q\", \"S\", \"S\", \"S\", \"C\", \"S\", \"S\"…\n"
     ],
     "output_type":"stream"
    }
   ],
   "metadata":{
    "datalore":{
     "node_id":"WMAJeT5hRtFofd6D34EQx8",
     "type":"CODE",
     "hide_input_from_viewers":false,
     "hide_output_from_viewers":false
    }
   }
  },
  {
   "cell_type":"code",
   "source":[
    "# drop na\n",
    "titanic_train <- na.omit(titanic_train)\n",
    "nrow(titanic_train)"
   ],
   "execution_count":4,
   "outputs":[
    {
     "data":{
      "text\/html":[
       "714"
      ]
     },
     "metadata":{
      
     },
     "output_type":"display_data"
    }
   ],
   "metadata":{
    "datalore":{
     "node_id":"8UaIL38DBrBJ506thoFPI9",
     "type":"CODE",
     "hide_input_from_viewers":false,
     "hide_output_from_viewers":false
    }
   }
  },
  {
   "cell_type":"code",
   "source":[
    "# change Survived to factor \n",
    "titanic_train$Survived <-factor(titanic_train$Survived, \n",
    "                            levels=c(0,1),\n",
    "                            labels=c(\"Died\",\"Survived\"))"
   ],
   "execution_count":5,
   "outputs":[
    
   ],
   "metadata":{
    "datalore":{
     "node_id":"VzEfYDR3OWX6Grzyl6MBR3",
     "type":"CODE",
     "hide_input_from_viewers":false,
     "hide_output_from_viewers":false
    }
   }
  },
  {
   "cell_type":"code",
   "source":[
    "glimpse(titanic_train)"
   ],
   "execution_count":6,
   "outputs":[
    {
     "name":"stdout",
     "text":[
      "Rows: 714\n",
      "Columns: 12\n",
      "$ PassengerId \u001b[3m\u001b[90m<int>\u001b[39m\u001b[23m 1, 2, 3, 4, 5, 7, 8, 9, 10, 11, 12, 13, 14, 15, 16, 17, 19…\n",
      "$ Survived    \u001b[3m\u001b[90m<fct>\u001b[39m\u001b[23m Died, Survived, Survived, Survived, Died, Died, Died, Surv…\n",
      "$ Pclass      \u001b[3m\u001b[90m<int>\u001b[39m\u001b[23m 3, 1, 3, 1, 3, 1, 3, 3, 2, 3, 1, 3, 3, 3, 2, 3, 3, 2, 2, 3…\n",
      "$ Name        \u001b[3m\u001b[90m<chr>\u001b[39m\u001b[23m \"Braund, Mr. Owen Harris\", \"Cumings, Mrs. John Bradley (Fl…\n",
      "$ Sex         \u001b[3m\u001b[90m<chr>\u001b[39m\u001b[23m \"male\", \"female\", \"female\", \"female\", \"male\", \"male\", \"mal…\n",
      "$ Age         \u001b[3m\u001b[90m<dbl>\u001b[39m\u001b[23m 22, 38, 26, 35, 35, 54, 2, 27, 14, 4, 58, 20, 39, 14, 55, …\n",
      "$ SibSp       \u001b[3m\u001b[90m<int>\u001b[39m\u001b[23m 1, 1, 0, 1, 0, 0, 3, 0, 1, 1, 0, 0, 1, 0, 0, 4, 1, 0, 0, 0…\n",
      "$ Parch       \u001b[3m\u001b[90m<int>\u001b[39m\u001b[23m 0, 0, 0, 0, 0, 0, 1, 2, 0, 1, 0, 0, 5, 0, 0, 1, 0, 0, 0, 0…\n",
      "$ Ticket      \u001b[3m\u001b[90m<chr>\u001b[39m\u001b[23m \"A\/5 21171\", \"PC 17599\", \"STON\/O2. 3101282\", \"113803\", \"37…\n",
      "$ Fare        \u001b[3m\u001b[90m<dbl>\u001b[39m\u001b[23m 7.2500, 71.2833, 7.9250, 53.1000, 8.0500, 51.8625, 21.0750…\n",
      "$ Cabin       \u001b[3m\u001b[90m<chr>\u001b[39m\u001b[23m \"\", \"C85\", \"\", \"C123\", \"\", \"E46\", \"\", \"\", \"\", \"G6\", \"C103\"…\n",
      "$ Embarked    \u001b[3m\u001b[90m<chr>\u001b[39m\u001b[23m \"S\", \"C\", \"S\", \"S\", \"S\", \"S\", \"S\", \"S\", \"C\", \"S\", \"S\", \"S\"…\n"
     ],
     "output_type":"stream"
    }
   ],
   "metadata":{
    "datalore":{
     "node_id":"v0ioOdabdWocJmGqyhVBcd",
     "type":"CODE",
     "hide_input_from_viewers":false,
     "hide_output_from_viewers":false
    }
   }
  },
  {
   "cell_type":"code",
   "source":[
    "\n",
    "train_test_split <- function(data, train_size=0.8){\n",
    "  set.seed(42) #lock result\n",
    "  n<- nrow(data)\n",
    "  id <- sample(1:n , size = n*train_size)\n",
    "  train_data <- data[id,]\n",
    "  test_data <- data[-id,]\n",
    "  \n",
    "  return(list(train_data,test_data))\n",
    "}"
   ],
   "execution_count":11,
   "outputs":[
    
   ],
   "metadata":{
    "datalore":{
     "node_id":"nNJFpxzufZuWE7Hh79KCfb",
     "type":"CODE",
     "hide_input_from_viewers":false,
     "hide_output_from_viewers":false
    }
   }
  },
  {
   "cell_type":"code",
   "source":[
    "split_data<- train_test_split(titanic_train,0.75)\n",
    "train_data <- split_data[[1]]\n",
    "test_data <- split_data[[2]]"
   ],
   "execution_count":27,
   "outputs":[
    
   ],
   "metadata":{
    "datalore":{
     "node_id":"8AXpdsmOXCFxVgoiJBD4Ia",
     "type":"CODE",
     "hide_input_from_viewers":false,
     "hide_output_from_viewers":false
    }
   }
  },
  {
   "cell_type":"markdown",
   "source":[
    "## Train DATA"
   ],
   "attachments":{
    
   },
   "metadata":{
    "datalore":{
     "node_id":"4sev4jkOl0wcFVbAKIRp3b",
     "type":"MD",
     "hide_input_from_viewers":false,
     "hide_output_from_viewers":false
    }
   }
  },
  {
   "cell_type":"code",
   "source":[
    "model <- glm(Survived ~ Pclass + Age + Sex + SibSp + Parch, \n",
    "            data = train_data, \n",
    "            family=\"binomial\")"
   ],
   "execution_count":29,
   "outputs":[
    
   ],
   "metadata":{
    "datalore":{
     "node_id":"ZVqzPX0psHkOtuiHCHxI0z",
     "type":"CODE",
     "hide_input_from_viewers":false,
     "hide_output_from_viewers":false
    }
   }
  },
  {
   "cell_type":"code",
   "source":[
    "p <- predict(model , data = train_data)\n",
    "#probability\n",
    "train_data$predicted <- if_else(p <= 0.5, \"Died\", \"Survived\")\n",
    "##acc\n",
    "acc_train <- mean( train_data$predicted == train_data$Survived)"
   ],
   "execution_count":34,
   "outputs":[
    
   ],
   "metadata":{
    "datalore":{
     "node_id":"XCsc10byDgy50xDmsGltTP",
     "type":"CODE",
     "hide_input_from_viewers":false,
     "hide_output_from_viewers":false
    }
   }
  },
  {
   "cell_type":"markdown",
   "source":[
    "##Test DATA"
   ],
   "attachments":{
    
   },
   "metadata":{
    "datalore":{
     "node_id":"KITqR0bs9BfvpRTO0l5avV",
     "type":"MD",
     "hide_input_from_viewers":false,
     "hide_output_from_viewers":false
    }
   }
  },
  {
   "cell_type":"code",
   "source":[
    "p <- predict(model , newdata = test_data)\n",
    "test_data$predicted <- if_else(p <= 0.5, \"Died\", \"Survived\")"
   ],
   "execution_count":35,
   "outputs":[
    
   ],
   "metadata":{
    "datalore":{
     "node_id":"FNOMHi79wE1nIczMNbFANa",
     "type":"CODE",
     "hide_input_from_viewers":false,
     "hide_output_from_viewers":false
    }
   }
  },
  {
   "cell_type":"markdown",
   "source":[
    "## Model Evalutaion "
   ],
   "attachments":{
    
   },
   "metadata":{
    "datalore":{
     "node_id":"66UYxKZM747Q5DCoVznewA",
     "type":"MD",
     "hide_input_from_viewers":false,
     "hide_output_from_viewers":false
    }
   }
  },
  {
   "cell_type":"code",
   "source":[
    "## confusion matrix table(x,y)\n",
    "### for train data\n",
    "connM <- table(train_data$predicted , train_data$Survived , dnn = c('predicted','actual'))\n",
    "accuracy <- (connM[1,1]+connM[2,2]) \/ sum(connM)\n",
    "cat (\"Accuracy : \", accuracy)\n",
    "precision <- connM[2,2] \/ (connM[2,1]+connM[2,2]) \n",
    "cat (\"\\nprecision : \", precision)\n",
    "recall <- connM[2,2] \/ (connM[1,2]+connM[2,2]) \n",
    "cat (\"\\nrecall :\" , recall)\n",
    "f1 <- 2*precision*recall \/ (precision+recall)\n",
    "cat(\"\\nf1-score:\", f1 )"
   ],
   "execution_count":39,
   "outputs":[
    {
     "name":"stdout",
     "text":[
      "Accuracy :  0.8074766\n",
      "precision :  0.8527607\n",
      "recall : 0.6376147\n",
      "f1-score: 0.7296588"
     ],
     "output_type":"stream"
    }
   ],
   "metadata":{
    "datalore":{
     "node_id":"8JSK2QuG8U2Rvmrv8IqPms",
     "type":"CODE",
     "hide_input_from_viewers":false,
     "hide_output_from_viewers":false
    }
   }
  },
  {
   "cell_type":"code",
   "source":[
    "### for test data\n",
    "connM <- table(test_data$predicted , test_data$Survived , dnn = c('predicted','actual'))\n",
    "accuracy <- (connM[1,1]+connM[2,2]) \/ sum(connM)\n",
    "cat (\"Accuracy : \", accuracy)\n",
    "precision <- connM[2,2] \/ (connM[2,1]+connM[2,2]) \n",
    "cat (\"\\nprecision : \", precision)\n",
    "recall <- connM[2,2] \/ (connM[1,2]+connM[2,2]) \n",
    "cat (\"\\nrecall :\" , recall)\n",
    "f1 <- 2*precision*recall \/ (precision+recall)\n",
    "cat(\"\\nf1-score:\", f1 )"
   ],
   "execution_count":40,
   "outputs":[
    {
     "name":"stdout",
     "text":[
      "Accuracy :  0.8100559\n",
      "precision :  0.88\n",
      "recall : 0.6111111\n",
      "f1-score: 0.7213115"
     ],
     "output_type":"stream"
    }
   ],
   "metadata":{
    "datalore":{
     "node_id":"Z1Df2TMzs9PK9W2g9KD3KP",
     "type":"CODE",
     "hide_input_from_viewers":false,
     "hide_output_from_viewers":false
    }
   }
  }
 ],
 "metadata":{
  "kernelspec":{
   "display_name":"R",
   "language":"r",
   "name":"ir"
  },
  "datalore":{
   "version":1,
   "computation_mode":"JUPYTER",
   "package_manager":"conda",
   "base_environment":"minimal",
   "packages":[
    
   ]
  }
 },
 "nbformat":4,
 "nbformat_minor":4
}