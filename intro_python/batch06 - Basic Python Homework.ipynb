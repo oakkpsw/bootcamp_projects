{
 "cells":[
  {
   "cell_type":"markdown",
   "source":[
    "rock paper scissors"
   ],
   "attachments":{
    
   },
   "metadata":{
    "datalore":{
     "node_id":"Fnfz7JexSjZ3YHutdZnOS5",
     "type":"MD",
     "hide_input_from_viewers":false,
     "hide_output_from_viewers":false,
     "report_properties":{
      
     }
    }
   }
  },
  {
   "cell_type":"code",
   "source":[
    "import random\n",
    "\n",
    "\n",
    "play_game = True\n",
    "win = 0\n",
    "draw = 0\n",
    "lose = 0\n",
    "user_pick_word = \"\"\n",
    "bot_pick_word = \"\"\n",
    "\n",
    "\n",
    "while play_game:\n",
    "    user_pick = int(input(\"Take your pick 1.Paper 2.Rock 3.Scissor press other to exit\"))\n",
    "    cpu_pick = random.randint(1, 3) \n",
    "    if user_pick == 1 :\n",
    "        user_pick_word = \"Paper\"\n",
    "    elif user_pick == 2 :\n",
    "        user_pick_word = \"Rock\"\n",
    "    elif user_pick == 3 :\n",
    "        user_pick_word = \"Scissor\"\n",
    "\n",
    "    if cpu_pick == 1 :\n",
    "        bot_pick_word = \"Paper\"\n",
    "    elif cpu_pick == 2 :\n",
    "        bot_pick_word = \"Rock\"\n",
    "    elif cpu_pick == 3 :\n",
    "        bot_pick_word = \"Scissor\"\n",
    "    if play_game:\n",
    "        print(f\"you choose:{user_pick_word}\")\n",
    "        print(f\"bot choose:{bot_pick_word}\")\n",
    "    if (user_pick == 1 and cpu_pick == 1 ) or (user_pick == 2 and cpu_pick == 2) or (user_pick == 3 and cpu_pick == 3):\n",
    "        draw +=1\n",
    "        print(\"you draw\")\n",
    "    elif (user_pick == 1 and cpu_pick == 2) or (user_pick == 2 and cpu_pick == 3) or (user_pick == 3 and cpu_pick == 1):\n",
    "        win += 1\n",
    "        print(\"you win\")\n",
    "    elif (user_pick == 1 and cpu_pick == 3) or (user_pick == 2 and cpu_pick == 1) or (user_pick == 3 and cpu_pick == 2):\n",
    "        lose +=1\n",
    "        print(\"you lose\")\n",
    "    else:\n",
    "        play_game = False\n",
    "        print (f\"suumary, win = {win} , draw = {draw} , lose = {lose}\" )"
   ],
   "execution_count":1,
   "outputs":[
    {
     "name":"stdout",
     "text":[
      "Take your pick 1.Paper 2.Rock 3.Scissor press other to exit 1\n",
      "you choose:Paper\n",
      "bot choose:Rock\n",
      "you win\n",
      "Take your pick 1.Paper 2.Rock 3.Scissor press other to exit 2\n",
      "you choose:Rock\n",
      "bot choose:Paper\n",
      "you lose\n",
      "Take your pick 1.Paper 2.Rock 3.Scissor press other to exit 0\n",
      "you choose:Rock\n",
      "bot choose:Paper\n",
      "suumary, win = 1 , draw = 0 , lose = 1\n"
     ],
     "output_type":"stream"
    }
   ],
   "metadata":{
    "datalore":{
     "node_id":"frJfz2MKq6SAqc0gnGUITE",
     "type":"CODE",
     "hide_input_from_viewers":false,
     "hide_output_from_viewers":false,
     "report_properties":{
      
     }
    }
   }
  },
  {
   "cell_type":"markdown",
   "source":[
    "# ATM"
   ],
   "attachments":{
    
   },
   "metadata":{
    "datalore":{
     "node_id":"PR9jolxI8figlKvTUdNch7",
     "type":"MD",
     "hide_input_from_viewers":false,
     "hide_output_from_viewers":false,
     "report_properties":{
      
     }
    }
   }
  },
  {
   "cell_type":"code",
   "source":[
    "class ATM:\n",
    "    def __init__(self, name , balance):\n",
    "        self.name = name\n",
    "        self.balance = balance\n",
    "\n",
    "    def check_balance(self):\n",
    "        message  = f\"Account: {self.name} , Balance: {self.balance}\"\n",
    "        print(message)\n",
    "\n",
    "    def deposite(self,money):\n",
    "        self.balance += money\n",
    "        print(f\"New Balance: {self.balance}\")\n",
    "        print(\"Deposite Successfully\")\n",
    "\n",
    "    def change_name(self,new_name):\n",
    "        self.name = new_name\n",
    "        print(f\"New Name: {self.name}\")\n",
    "        print(\"Your account name has change Successfully\")\n",
    "\n",
    "    def withdrawn(self,withdrawn_balanace):\n",
    "        remain_balance = self.balance - withdrawn_balanace\n",
    "        if remain_balance >= 0:\n",
    "            self.balance -= withdrawn_balanace\n",
    "            print(f\"New Balance: {self.balance}\")\n",
    "            print(\"Withdrawn Successfully\")\n",
    "        else:\n",
    "            print(\"Not have enough balance\")\n",
    "            print(\"Please Try again\")\n",
    "\n",
    "    def transfer(self,destination,transfer_balance):\n",
    "        remain_balance = self.balance - transfer_balance\n",
    "        if remain_balance >= 0:\n",
    "            self.balance -= transfer_balance\n",
    "            print(f\"transefer to account {destination} complete\")\n",
    "            print(f\"New Balance: {self.balance}\")\n",
    "        else:\n",
    "            print(f\"Not have enough balance , Trasnfer to account {destination} Failed\")\n",
    "            print(\"Please Try again\")"
   ],
   "execution_count":8,
   "outputs":[
    
   ],
   "metadata":{
    "datalore":{
     "node_id":"eu1hycN71IPkojkn9zmkdJ",
     "type":"CODE",
     "hide_input_from_viewers":false,
     "hide_output_from_viewers":false,
     "report_properties":{
      
     }
    }
   }
  },
  {
   "cell_type":"code",
   "source":[
    "scb = ATM(\"scb\",10000)"
   ],
   "execution_count":9,
   "outputs":[
    
   ],
   "metadata":{
    "datalore":{
     "node_id":"VS0D4P9w1IHMmPZCfrayzl",
     "type":"CODE",
     "hide_input_from_viewers":false,
     "hide_output_from_viewers":false,
     "report_properties":{
      
     }
    }
   }
  },
  {
   "cell_type":"code",
   "source":[
    "scb.balance"
   ],
   "execution_count":10,
   "outputs":[
    {
     "data":{
      "text\/plain":[
       "10000"
      ]
     },
     "metadata":{
      
     },
     "output_type":"display_data"
    }
   ],
   "metadata":{
    "datalore":{
     "node_id":"aw0ERdW10eyFbBOTaot3VZ",
     "type":"CODE",
     "hide_input_from_viewers":false,
     "hide_output_from_viewers":false,
     "report_properties":{
      
     }
    }
   }
  },
  {
   "cell_type":"code",
   "source":[
    "scb.name"
   ],
   "execution_count":11,
   "outputs":[
    {
     "data":{
      "text\/plain":[
       "'scb'"
      ]
     },
     "metadata":{
      
     },
     "output_type":"display_data"
    }
   ],
   "metadata":{
    "datalore":{
     "node_id":"uqWMqsWIE4feZkmpU7Ov5h",
     "type":"CODE",
     "hide_input_from_viewers":false,
     "hide_output_from_viewers":false,
     "report_properties":{
      
     }
    }
   }
  },
  {
   "cell_type":"code",
   "source":[
    "scb.deposite(5000)"
   ],
   "execution_count":12,
   "outputs":[
    {
     "name":"stdout",
     "text":[
      "New Balance: 15000\n",
      "Deposite Successfully\n"
     ],
     "output_type":"stream"
    }
   ],
   "metadata":{
    "datalore":{
     "node_id":"p2BsVHyQY0ak6dYjAIRSIL",
     "type":"CODE",
     "hide_input_from_viewers":false,
     "hide_output_from_viewers":false,
     "report_properties":{
      
     }
    }
   }
  },
  {
   "cell_type":"code",
   "source":[
    "scb.check_balance()"
   ],
   "execution_count":13,
   "outputs":[
    {
     "name":"stdout",
     "text":[
      "Account: scb , Balance: 15000\n"
     ],
     "output_type":"stream"
    }
   ],
   "metadata":{
    "datalore":{
     "node_id":"u3QOGDEVV7BErTVQsNXPGs",
     "type":"CODE",
     "hide_input_from_viewers":false,
     "hide_output_from_viewers":false,
     "report_properties":{
      
     }
    }
   }
  },
  {
   "cell_type":"code",
   "source":[
    "scb.withdrawn(3000)"
   ],
   "execution_count":15,
   "outputs":[
    {
     "name":"stdout",
     "text":[
      "New Balance: 9000\n",
      "Withdrawn Successfully\n"
     ],
     "output_type":"stream"
    }
   ],
   "metadata":{
    "datalore":{
     "node_id":"J6PtIvgiVPxYuflROomTSU",
     "type":"CODE",
     "hide_input_from_viewers":false,
     "hide_output_from_viewers":false,
     "report_properties":{
      
     }
    }
   }
  },
  {
   "cell_type":"code",
   "source":[
    "scb.transfer(\"ttb\",5000)"
   ],
   "execution_count":16,
   "outputs":[
    {
     "name":"stdout",
     "text":[
      "transefer to account ttb complete\n",
      "New Balance: 4000\n"
     ],
     "output_type":"stream"
    }
   ],
   "metadata":{
    "datalore":{
     "node_id":"fXjOdB6LuwabUi9bwWpLW9",
     "type":"CODE",
     "hide_input_from_viewers":false,
     "hide_output_from_viewers":false,
     "report_properties":{
      
     }
    }
   }
  },
  {
   "cell_type":"code",
   "source":[
    "scb.change_name(\"new_scb\")"
   ],
   "execution_count":17,
   "outputs":[
    {
     "name":"stdout",
     "text":[
      "New Name: new_scb\n",
      "Your account name has change Successfully\n"
     ],
     "output_type":"stream"
    }
   ],
   "metadata":{
    "datalore":{
     "node_id":"yJQnfrb4WTzkJLGqBHvM0p",
     "type":"CODE",
     "hide_input_from_viewers":false,
     "hide_output_from_viewers":false,
     "report_properties":{
      
     }
    }
   }
  }
 ],
 "metadata":{
  "kernelspec":{
   "display_name":"Python",
   "language":"python",
   "name":"python"
  },
  "datalore":{
   "version":1,
   "computation_mode":"JUPYTER",
   "package_manager":"pip",
   "base_environment":"default",
   "packages":[
    
   ]
  }
 },
 "nbformat":4,
 "nbformat_minor":4
}