{
 "cells":[
  {
   "cell_type":"markdown",
   "source":[
    "Flight Analytics"
   ],
   "attachments":{
    
   },
   "metadata":{
    "datalore":{
     "node_id":"cZeNbOjrofVEKMobwsUh7k",
     "type":"MD",
     "hide_input_from_viewers":false,
     "hide_output_from_viewers":false
    }
   }
  },
  {
   "cell_type":"code",
   "source":[
    "library(dplyr)\n",
    "library(tidyverse)"
   ],
   "execution_count":2,
   "outputs":[
    {
     "name":"stderr",
     "text":[
      "\n",
      "Attaching package: ‘dplyr’\n",
      "\n",
      "\n",
      "The following objects are masked from ‘package:stats’:\n",
      "\n",
      "    filter, lag\n",
      "\n",
      "\n",
      "The following objects are masked from ‘package:base’:\n",
      "\n",
      "    intersect, setdiff, setequal, union\n",
      "\n",
      "\n",
      "Warning message in system(\"timedatectl\", intern = TRUE):\n",
      "“running command 'timedatectl' had status 1”\n",
      "Warning message:\n",
      "“Failed to locate timezone database”\n",
      "── \u001b[1mAttaching packages\u001b[22m ─────────────────────────────────────── tidyverse 1.3.1 ──\n",
      "\n",
      "\u001b[32m✔\u001b[39m \u001b[34mggplot2\u001b[39m 3.3.5     \u001b[32m✔\u001b[39m \u001b[34mpurrr  \u001b[39m 0.3.4\n",
      "\u001b[32m✔\u001b[39m \u001b[34mtibble \u001b[39m 3.1.5     \u001b[32m✔\u001b[39m \u001b[34mstringr\u001b[39m 1.4.0\n",
      "\u001b[32m✔\u001b[39m \u001b[34mtidyr  \u001b[39m 1.1.4     \u001b[32m✔\u001b[39m \u001b[34mforcats\u001b[39m 0.5.1\n",
      "\u001b[32m✔\u001b[39m \u001b[34mreadr  \u001b[39m 2.0.2     \n",
      "\n",
      "── \u001b[1mConflicts\u001b[22m ────────────────────────────────────────── tidyverse_conflicts() ──\n",
      "\u001b[31m✖\u001b[39m \u001b[34mdplyr\u001b[39m::\u001b[32mfilter()\u001b[39m  masks \u001b[34mstats\u001b[39m::filter()\n",
      "\u001b[31m✖\u001b[39m \u001b[34mpurrr\u001b[39m::\u001b[32mflatten()\u001b[39m masks \u001b[34mjsonlite\u001b[39m::flatten()\n",
      "\u001b[31m✖\u001b[39m \u001b[34mdplyr\u001b[39m::\u001b[32mlag()\u001b[39m     masks \u001b[34mstats\u001b[39m::lag()\n",
      "\n"
     ],
     "output_type":"stream"
    }
   ],
   "metadata":{
    "datalore":{
     "node_id":"cvBVBkmEhscZDWrnfZ6idx",
     "type":"CODE",
     "hide_input_from_viewers":false,
     "hide_output_from_viewers":false
    }
   }
  },
  {
   "cell_type":"code",
   "source":[
    "flights <- read.csv(\"flights.csv\")\n",
    "airlines <- read.csv(\"airlines.csv\")\n",
    "weathers <- read.csv(\"weather.csv\")\n",
    "planes <- read.csv(\"planes.csv\")\n",
    "airports <- read.csv(\"airports.csv\")"
   ],
   "execution_count":3,
   "outputs":[
    
   ],
   "metadata":{
    "datalore":{
     "node_id":"3HzFE8NHYs7vyXnPBIIF0C",
     "type":"CODE",
     "hide_input_from_viewers":false,
     "hide_output_from_viewers":false
    }
   }
  },
  {
   "cell_type":"code",
   "source":[
    "flights %>% \n",
    "    head(10)"
   ],
   "execution_count":13,
   "outputs":[
    {
     "data":{
      "text\/html":[
       "<table class=\"dataframe\">\n",
       "<caption>A data.frame: 10 × 19<\/caption>\n",
       "<thead>\n",
       "\t<tr><th><\/th><th scope=col>year<\/th><th scope=col>month<\/th><th scope=col>day<\/th><th scope=col>dep_time<\/th><th scope=col>sched_dep_time<\/th><th scope=col>dep_delay<\/th><th scope=col>arr_time<\/th><th scope=col>sched_arr_time<\/th><th scope=col>arr_delay<\/th><th scope=col>carrier<\/th><th scope=col>flight<\/th><th scope=col>tailnum<\/th><th scope=col>origin<\/th><th scope=col>dest<\/th><th scope=col>air_time<\/th><th scope=col>distance<\/th><th scope=col>hour<\/th><th scope=col>minute<\/th><th scope=col>time_hour<\/th><\/tr>\n",
       "\t<tr><th><\/th><th scope=col>&lt;int&gt;<\/th><th scope=col>&lt;int&gt;<\/th><th scope=col>&lt;int&gt;<\/th><th scope=col>&lt;int&gt;<\/th><th scope=col>&lt;int&gt;<\/th><th scope=col>&lt;int&gt;<\/th><th scope=col>&lt;int&gt;<\/th><th scope=col>&lt;int&gt;<\/th><th scope=col>&lt;int&gt;<\/th><th scope=col>&lt;chr&gt;<\/th><th scope=col>&lt;int&gt;<\/th><th scope=col>&lt;chr&gt;<\/th><th scope=col>&lt;chr&gt;<\/th><th scope=col>&lt;chr&gt;<\/th><th scope=col>&lt;int&gt;<\/th><th scope=col>&lt;int&gt;<\/th><th scope=col>&lt;int&gt;<\/th><th scope=col>&lt;int&gt;<\/th><th scope=col>&lt;chr&gt;<\/th><\/tr>\n",
       "<\/thead>\n",
       "<tbody>\n",
       "\t<tr><th scope=row>1<\/th><td>2013<\/td><td>1<\/td><td>1<\/td><td>517<\/td><td>515<\/td><td> 2<\/td><td> 830<\/td><td> 819<\/td><td> 11<\/td><td>UA<\/td><td>1545<\/td><td>N14228<\/td><td>EWR<\/td><td>IAH<\/td><td>227<\/td><td>1400<\/td><td>5<\/td><td>15<\/td><td>2013-01-01T10:00:00Z<\/td><\/tr>\n",
       "\t<tr><th scope=row>2<\/th><td>2013<\/td><td>1<\/td><td>1<\/td><td>533<\/td><td>529<\/td><td> 4<\/td><td> 850<\/td><td> 830<\/td><td> 20<\/td><td>UA<\/td><td>1714<\/td><td>N24211<\/td><td>LGA<\/td><td>IAH<\/td><td>227<\/td><td>1416<\/td><td>5<\/td><td>29<\/td><td>2013-01-01T10:00:00Z<\/td><\/tr>\n",
       "\t<tr><th scope=row>3<\/th><td>2013<\/td><td>1<\/td><td>1<\/td><td>542<\/td><td>540<\/td><td> 2<\/td><td> 923<\/td><td> 850<\/td><td> 33<\/td><td>AA<\/td><td>1141<\/td><td>N619AA<\/td><td>JFK<\/td><td>MIA<\/td><td>160<\/td><td>1089<\/td><td>5<\/td><td>40<\/td><td>2013-01-01T10:00:00Z<\/td><\/tr>\n",
       "\t<tr><th scope=row>4<\/th><td>2013<\/td><td>1<\/td><td>1<\/td><td>544<\/td><td>545<\/td><td>-1<\/td><td>1004<\/td><td>1022<\/td><td>-18<\/td><td>B6<\/td><td> 725<\/td><td>N804JB<\/td><td>JFK<\/td><td>BQN<\/td><td>183<\/td><td>1576<\/td><td>5<\/td><td>45<\/td><td>2013-01-01T10:00:00Z<\/td><\/tr>\n",
       "\t<tr><th scope=row>5<\/th><td>2013<\/td><td>1<\/td><td>1<\/td><td>554<\/td><td>600<\/td><td>-6<\/td><td> 812<\/td><td> 837<\/td><td>-25<\/td><td>DL<\/td><td> 461<\/td><td>N668DN<\/td><td>LGA<\/td><td>ATL<\/td><td>116<\/td><td> 762<\/td><td>6<\/td><td> 0<\/td><td>2013-01-01T11:00:00Z<\/td><\/tr>\n",
       "\t<tr><th scope=row>6<\/th><td>2013<\/td><td>1<\/td><td>1<\/td><td>554<\/td><td>558<\/td><td>-4<\/td><td> 740<\/td><td> 728<\/td><td> 12<\/td><td>UA<\/td><td>1696<\/td><td>N39463<\/td><td>EWR<\/td><td>ORD<\/td><td>150<\/td><td> 719<\/td><td>5<\/td><td>58<\/td><td>2013-01-01T10:00:00Z<\/td><\/tr>\n",
       "\t<tr><th scope=row>7<\/th><td>2013<\/td><td>1<\/td><td>1<\/td><td>555<\/td><td>600<\/td><td>-5<\/td><td> 913<\/td><td> 854<\/td><td> 19<\/td><td>B6<\/td><td> 507<\/td><td>N516JB<\/td><td>EWR<\/td><td>FLL<\/td><td>158<\/td><td>1065<\/td><td>6<\/td><td> 0<\/td><td>2013-01-01T11:00:00Z<\/td><\/tr>\n",
       "\t<tr><th scope=row>8<\/th><td>2013<\/td><td>1<\/td><td>1<\/td><td>557<\/td><td>600<\/td><td>-3<\/td><td> 709<\/td><td> 723<\/td><td>-14<\/td><td>EV<\/td><td>5708<\/td><td>N829AS<\/td><td>LGA<\/td><td>IAD<\/td><td> 53<\/td><td> 229<\/td><td>6<\/td><td> 0<\/td><td>2013-01-01T11:00:00Z<\/td><\/tr>\n",
       "\t<tr><th scope=row>9<\/th><td>2013<\/td><td>1<\/td><td>1<\/td><td>557<\/td><td>600<\/td><td>-3<\/td><td> 838<\/td><td> 846<\/td><td> -8<\/td><td>B6<\/td><td>  79<\/td><td>N593JB<\/td><td>JFK<\/td><td>MCO<\/td><td>140<\/td><td> 944<\/td><td>6<\/td><td> 0<\/td><td>2013-01-01T11:00:00Z<\/td><\/tr>\n",
       "\t<tr><th scope=row>10<\/th><td>2013<\/td><td>1<\/td><td>1<\/td><td>558<\/td><td>600<\/td><td>-2<\/td><td> 753<\/td><td> 745<\/td><td>  8<\/td><td>AA<\/td><td> 301<\/td><td>N3ALAA<\/td><td>LGA<\/td><td>ORD<\/td><td>138<\/td><td> 733<\/td><td>6<\/td><td> 0<\/td><td>2013-01-01T11:00:00Z<\/td><\/tr>\n",
       "<\/tbody>\n",
       "<\/table>\n"
      ]
     },
     "metadata":{
      
     },
     "output_type":"display_data"
    }
   ],
   "metadata":{
    "datalore":{
     "node_id":"VScolBJJhouy058jItTYxt",
     "type":"CODE",
     "hide_input_from_viewers":false,
     "hide_output_from_viewers":false
    }
   }
  },
  {
   "cell_type":"code",
   "source":[
    "# check null value\n",
    "check_na <- function(col) {\n",
    "  sum(is.na(col))\n",
    "}\n",
    "apply(flights, MARGIN=2,check_na)"
   ],
   "execution_count":41,
   "outputs":[
    {
     "data":{
      "text\/html":[
       "<style>\n",
       ".dl-inline {width: auto; margin:0; padding: 0}\n",
       ".dl-inline>dt, .dl-inline>dd {float: none; width: auto; display: inline-block}\n",
       ".dl-inline>dt::after {content: \":\\0020\"; padding-right: .5ex}\n",
       ".dl-inline>dt:not(:first-of-type) {padding-left: .5ex}\n",
       "<\/style><dl class=dl-inline><dt>year<\/dt><dd>0<\/dd><dt>month<\/dt><dd>0<\/dd><dt>day<\/dt><dd>0<\/dd><dt>dep_time<\/dt><dd>8255<\/dd><dt>sched_dep_time<\/dt><dd>0<\/dd><dt>dep_delay<\/dt><dd>8255<\/dd><dt>arr_time<\/dt><dd>8713<\/dd><dt>sched_arr_time<\/dt><dd>0<\/dd><dt>arr_delay<\/dt><dd>9430<\/dd><dt>carrier<\/dt><dd>0<\/dd><dt>flight<\/dt><dd>0<\/dd><dt>tailnum<\/dt><dd>2512<\/dd><dt>origin<\/dt><dd>0<\/dd><dt>dest<\/dt><dd>0<\/dd><dt>air_time<\/dt><dd>9430<\/dd><dt>distance<\/dt><dd>0<\/dd><dt>hour<\/dt><dd>0<\/dd><dt>minute<\/dt><dd>0<\/dd><dt>time_hour<\/dt><dd>0<\/dd><\/dl>\n"
      ]
     },
     "metadata":{
      
     },
     "output_type":"display_data"
    }
   ],
   "metadata":{
    "datalore":{
     "node_id":"3oLjTWrxf5QagCH4E3vLBS",
     "type":"CODE",
     "hide_input_from_viewers":false,
     "hide_output_from_viewers":false
    }
   }
  },
  {
   "cell_type":"code",
   "source":[
    "flights %>%\n",
    "    filter(is.na(arr_time))"
   ],
   "execution_count":42,
   "outputs":[
    {
     "data":{
      "text\/html":[
       "<table class=\"dataframe\">\n",
       "<caption>A data.frame: 8713 × 19<\/caption>\n",
       "<thead>\n",
       "\t<tr><th scope=col>year<\/th><th scope=col>month<\/th><th scope=col>day<\/th><th scope=col>dep_time<\/th><th scope=col>sched_dep_time<\/th><th scope=col>dep_delay<\/th><th scope=col>arr_time<\/th><th scope=col>sched_arr_time<\/th><th scope=col>arr_delay<\/th><th scope=col>carrier<\/th><th scope=col>flight<\/th><th scope=col>tailnum<\/th><th scope=col>origin<\/th><th scope=col>dest<\/th><th scope=col>air_time<\/th><th scope=col>distance<\/th><th scope=col>hour<\/th><th scope=col>minute<\/th><th scope=col>time_hour<\/th><\/tr>\n",
       "\t<tr><th scope=col>&lt;int&gt;<\/th><th scope=col>&lt;int&gt;<\/th><th scope=col>&lt;int&gt;<\/th><th scope=col>&lt;int&gt;<\/th><th scope=col>&lt;int&gt;<\/th><th scope=col>&lt;int&gt;<\/th><th scope=col>&lt;int&gt;<\/th><th scope=col>&lt;int&gt;<\/th><th scope=col>&lt;int&gt;<\/th><th scope=col>&lt;chr&gt;<\/th><th scope=col>&lt;int&gt;<\/th><th scope=col>&lt;chr&gt;<\/th><th scope=col>&lt;chr&gt;<\/th><th scope=col>&lt;chr&gt;<\/th><th scope=col>&lt;int&gt;<\/th><th scope=col>&lt;int&gt;<\/th><th scope=col>&lt;int&gt;<\/th><th scope=col>&lt;int&gt;<\/th><th scope=col>&lt;chr&gt;<\/th><\/tr>\n",
       "<\/thead>\n",
       "<tbody>\n",
       "\t<tr><td>2013<\/td><td>1<\/td><td>1<\/td><td>2016<\/td><td>1930<\/td><td>46<\/td><td>NA<\/td><td>2220<\/td><td>NA<\/td><td>EV<\/td><td>4204<\/td><td>N14168<\/td><td>EWR<\/td><td>OKC<\/td><td>NA<\/td><td>1325<\/td><td>19<\/td><td>30<\/td><td>2013-01-02T00:00:00Z<\/td><\/tr>\n",
       "\t<tr><td>2013<\/td><td>1<\/td><td>1<\/td><td>  NA<\/td><td>1630<\/td><td>NA<\/td><td>NA<\/td><td>1815<\/td><td>NA<\/td><td>EV<\/td><td>4308<\/td><td>N18120<\/td><td>EWR<\/td><td>RDU<\/td><td>NA<\/td><td> 416<\/td><td>16<\/td><td>30<\/td><td>2013-01-01T21:00:00Z<\/td><\/tr>\n",
       "\t<tr><td>2013<\/td><td>1<\/td><td>1<\/td><td>  NA<\/td><td>1935<\/td><td>NA<\/td><td>NA<\/td><td>2240<\/td><td>NA<\/td><td>AA<\/td><td> 791<\/td><td>N3EHAA<\/td><td>LGA<\/td><td>DFW<\/td><td>NA<\/td><td>1389<\/td><td>19<\/td><td>35<\/td><td>2013-01-02T00:00:00Z<\/td><\/tr>\n",
       "\t<tr><td>2013<\/td><td>1<\/td><td>1<\/td><td>  NA<\/td><td>1500<\/td><td>NA<\/td><td>NA<\/td><td>1825<\/td><td>NA<\/td><td>AA<\/td><td>1925<\/td><td>N3EVAA<\/td><td>LGA<\/td><td>MIA<\/td><td>NA<\/td><td>1096<\/td><td>15<\/td><td> 0<\/td><td>2013-01-01T20:00:00Z<\/td><\/tr>\n",
       "\t<tr><td>2013<\/td><td>1<\/td><td>1<\/td><td>  NA<\/td><td> 600<\/td><td>NA<\/td><td>NA<\/td><td> 901<\/td><td>NA<\/td><td>B6<\/td><td> 125<\/td><td>N618JB<\/td><td>JFK<\/td><td>FLL<\/td><td>NA<\/td><td>1069<\/td><td> 6<\/td><td> 0<\/td><td>2013-01-01T11:00:00Z<\/td><\/tr>\n",
       "\t<tr><td>2013<\/td><td>1<\/td><td>2<\/td><td>2041<\/td><td>2045<\/td><td>-4<\/td><td>NA<\/td><td>2359<\/td><td>NA<\/td><td>B6<\/td><td> 147<\/td><td>N630JB<\/td><td>JFK<\/td><td>RSW<\/td><td>NA<\/td><td>1074<\/td><td>20<\/td><td>45<\/td><td>2013-01-03T01:00:00Z<\/td><\/tr>\n",
       "\t<tr><td>2013<\/td><td>1<\/td><td>2<\/td><td>2145<\/td><td>2129<\/td><td>16<\/td><td>NA<\/td><td>  33<\/td><td>NA<\/td><td>UA<\/td><td>1299<\/td><td>N12221<\/td><td>EWR<\/td><td>RSW<\/td><td>NA<\/td><td>1068<\/td><td>21<\/td><td>29<\/td><td>2013-01-03T02:00:00Z<\/td><\/tr>\n",
       "\t<tr><td>2013<\/td><td>1<\/td><td>2<\/td><td>  NA<\/td><td>1540<\/td><td>NA<\/td><td>NA<\/td><td>1747<\/td><td>NA<\/td><td>EV<\/td><td>4352<\/td><td>N10575<\/td><td>EWR<\/td><td>CVG<\/td><td>NA<\/td><td> 569<\/td><td>15<\/td><td>40<\/td><td>2013-01-02T20:00:00Z<\/td><\/tr>\n",
       "\t<tr><td>2013<\/td><td>1<\/td><td>2<\/td><td>  NA<\/td><td>1620<\/td><td>NA<\/td><td>NA<\/td><td>1746<\/td><td>NA<\/td><td>EV<\/td><td>4406<\/td><td>N13949<\/td><td>EWR<\/td><td>PIT<\/td><td>NA<\/td><td> 319<\/td><td>16<\/td><td>20<\/td><td>2013-01-02T21:00:00Z<\/td><\/tr>\n",
       "\t<tr><td>2013<\/td><td>1<\/td><td>2<\/td><td>  NA<\/td><td>1355<\/td><td>NA<\/td><td>NA<\/td><td>1459<\/td><td>NA<\/td><td>EV<\/td><td>4434<\/td><td>N10575<\/td><td>EWR<\/td><td>MHT<\/td><td>NA<\/td><td> 209<\/td><td>13<\/td><td>55<\/td><td>2013-01-02T18:00:00Z<\/td><\/tr>\n",
       "\t<tr><td>2013<\/td><td>1<\/td><td>2<\/td><td>  NA<\/td><td>1420<\/td><td>NA<\/td><td>NA<\/td><td>1644<\/td><td>NA<\/td><td>EV<\/td><td>4935<\/td><td>N759EV<\/td><td>EWR<\/td><td>ATL<\/td><td>NA<\/td><td> 746<\/td><td>14<\/td><td>20<\/td><td>2013-01-02T19:00:00Z<\/td><\/tr>\n",
       "\t<tr><td>2013<\/td><td>1<\/td><td>2<\/td><td>  NA<\/td><td>1321<\/td><td>NA<\/td><td>NA<\/td><td>1536<\/td><td>NA<\/td><td>EV<\/td><td>3849<\/td><td>N13550<\/td><td>EWR<\/td><td>IND<\/td><td>NA<\/td><td> 645<\/td><td>13<\/td><td>21<\/td><td>2013-01-02T18:00:00Z<\/td><\/tr>\n",
       "\t<tr><td>2013<\/td><td>1<\/td><td>2<\/td><td>  NA<\/td><td>1545<\/td><td>NA<\/td><td>NA<\/td><td>1910<\/td><td>NA<\/td><td>AA<\/td><td> 133<\/td><td>NA    <\/td><td>JFK<\/td><td>LAX<\/td><td>NA<\/td><td>2475<\/td><td>15<\/td><td>45<\/td><td>2013-01-02T20:00:00Z<\/td><\/tr>\n",
       "\t<tr><td>2013<\/td><td>1<\/td><td>2<\/td><td>  NA<\/td><td>1330<\/td><td>NA<\/td><td>NA<\/td><td>1640<\/td><td>NA<\/td><td>AA<\/td><td> 753<\/td><td>N3FBAA<\/td><td>LGA<\/td><td>DFW<\/td><td>NA<\/td><td>1389<\/td><td>13<\/td><td>30<\/td><td>2013-01-02T18:00:00Z<\/td><\/tr>\n",
       "\t<tr><td>2013<\/td><td>1<\/td><td>2<\/td><td>  NA<\/td><td>1601<\/td><td>NA<\/td><td>NA<\/td><td>1735<\/td><td>NA<\/td><td>UA<\/td><td> 623<\/td><td>NA    <\/td><td>EWR<\/td><td>ORD<\/td><td>NA<\/td><td> 719<\/td><td>16<\/td><td> 1<\/td><td>2013-01-02T21:00:00Z<\/td><\/tr>\n",
       "\t<tr><td>2013<\/td><td>1<\/td><td>3<\/td><td>  NA<\/td><td> 645<\/td><td>NA<\/td><td>NA<\/td><td> 757<\/td><td>NA<\/td><td>EV<\/td><td>4241<\/td><td>N14972<\/td><td>EWR<\/td><td>DCA<\/td><td>NA<\/td><td> 199<\/td><td> 6<\/td><td>45<\/td><td>2013-01-03T11:00:00Z<\/td><\/tr>\n",
       "\t<tr><td>2013<\/td><td>1<\/td><td>3<\/td><td>  NA<\/td><td>1030<\/td><td>NA<\/td><td>NA<\/td><td>1210<\/td><td>NA<\/td><td>AA<\/td><td> 321<\/td><td>N487AA<\/td><td>LGA<\/td><td>ORD<\/td><td>NA<\/td><td> 733<\/td><td>10<\/td><td>30<\/td><td>2013-01-03T15:00:00Z<\/td><\/tr>\n",
       "\t<tr><td>2013<\/td><td>1<\/td><td>3<\/td><td>  NA<\/td><td>1125<\/td><td>NA<\/td><td>NA<\/td><td>1305<\/td><td>NA<\/td><td>AA<\/td><td> 327<\/td><td>N3AMAA<\/td><td>LGA<\/td><td>ORD<\/td><td>NA<\/td><td> 733<\/td><td>11<\/td><td>25<\/td><td>2013-01-03T16:00:00Z<\/td><\/tr>\n",
       "\t<tr><td>2013<\/td><td>1<\/td><td>3<\/td><td>  NA<\/td><td> 835<\/td><td>NA<\/td><td>NA<\/td><td>1150<\/td><td>NA<\/td><td>AA<\/td><td> 717<\/td><td>N3GXAA<\/td><td>LGA<\/td><td>DFW<\/td><td>NA<\/td><td>1389<\/td><td> 8<\/td><td>35<\/td><td>2013-01-03T13:00:00Z<\/td><\/tr>\n",
       "\t<tr><td>2013<\/td><td>1<\/td><td>3<\/td><td>  NA<\/td><td> 920<\/td><td>NA<\/td><td>NA<\/td><td>1245<\/td><td>NA<\/td><td>AA<\/td><td> 721<\/td><td>N201AA<\/td><td>LGA<\/td><td>DFW<\/td><td>NA<\/td><td>1389<\/td><td> 9<\/td><td>20<\/td><td>2013-01-03T14:00:00Z<\/td><\/tr>\n",
       "\t<tr><td>2013<\/td><td>1<\/td><td>3<\/td><td>  NA<\/td><td>1020<\/td><td>NA<\/td><td>NA<\/td><td>1330<\/td><td>NA<\/td><td>AA<\/td><td> 731<\/td><td>N3FVAA<\/td><td>LGA<\/td><td>DFW<\/td><td>NA<\/td><td>1389<\/td><td>10<\/td><td>20<\/td><td>2013-01-03T15:00:00Z<\/td><\/tr>\n",
       "\t<tr><td>2013<\/td><td>1<\/td><td>3<\/td><td>  NA<\/td><td>1220<\/td><td>NA<\/td><td>NA<\/td><td>1415<\/td><td>NA<\/td><td>AA<\/td><td>1757<\/td><td>N573AA<\/td><td>LGA<\/td><td>STL<\/td><td>NA<\/td><td> 888<\/td><td>12<\/td><td>20<\/td><td>2013-01-03T17:00:00Z<\/td><\/tr>\n",
       "\t<tr><td>2013<\/td><td>1<\/td><td>3<\/td><td>  NA<\/td><td> 630<\/td><td>NA<\/td><td>NA<\/td><td> 830<\/td><td>NA<\/td><td>MQ<\/td><td>4599<\/td><td>N500MQ<\/td><td>LGA<\/td><td>MSP<\/td><td>NA<\/td><td>1020<\/td><td> 6<\/td><td>30<\/td><td>2013-01-03T11:00:00Z<\/td><\/tr>\n",
       "\t<tr><td>2013<\/td><td>1<\/td><td>3<\/td><td>  NA<\/td><td> 857<\/td><td>NA<\/td><td>NA<\/td><td>1209<\/td><td>NA<\/td><td>UA<\/td><td> 714<\/td><td>NA    <\/td><td>EWR<\/td><td>MIA<\/td><td>NA<\/td><td>1085<\/td><td> 8<\/td><td>57<\/td><td>2013-01-03T13:00:00Z<\/td><\/tr>\n",
       "\t<tr><td>2013<\/td><td>1<\/td><td>3<\/td><td>  NA<\/td><td> 645<\/td><td>NA<\/td><td>NA<\/td><td> 952<\/td><td>NA<\/td><td>UA<\/td><td> 719<\/td><td>NA    <\/td><td>EWR<\/td><td>DFW<\/td><td>NA<\/td><td>1372<\/td><td> 6<\/td><td>45<\/td><td>2013-01-03T11:00:00Z<\/td><\/tr>\n",
       "\t<tr><td>2013<\/td><td>1<\/td><td>4<\/td><td>  NA<\/td><td> 845<\/td><td>NA<\/td><td>NA<\/td><td>1015<\/td><td>NA<\/td><td>9E<\/td><td>3405<\/td><td>NA    <\/td><td>JFK<\/td><td>DCA<\/td><td>NA<\/td><td> 213<\/td><td> 8<\/td><td>45<\/td><td>2013-01-04T13:00:00Z<\/td><\/tr>\n",
       "\t<tr><td>2013<\/td><td>1<\/td><td>4<\/td><td>  NA<\/td><td>1830<\/td><td>NA<\/td><td>NA<\/td><td>2044<\/td><td>NA<\/td><td>9E<\/td><td>3716<\/td><td>NA    <\/td><td>EWR<\/td><td>DTW<\/td><td>NA<\/td><td> 488<\/td><td>18<\/td><td>30<\/td><td>2013-01-04T23:00:00Z<\/td><\/tr>\n",
       "\t<tr><td>2013<\/td><td>1<\/td><td>4<\/td><td>  NA<\/td><td> 920<\/td><td>NA<\/td><td>NA<\/td><td>1245<\/td><td>NA<\/td><td>AA<\/td><td> 721<\/td><td>N541AA<\/td><td>LGA<\/td><td>DFW<\/td><td>NA<\/td><td>1389<\/td><td> 9<\/td><td>20<\/td><td>2013-01-04T14:00:00Z<\/td><\/tr>\n",
       "\t<tr><td>2013<\/td><td>1<\/td><td>4<\/td><td>  NA<\/td><td>1245<\/td><td>NA<\/td><td>NA<\/td><td>1550<\/td><td>NA<\/td><td>AA<\/td><td> 745<\/td><td>N3BGAA<\/td><td>LGA<\/td><td>DFW<\/td><td>NA<\/td><td>1389<\/td><td>12<\/td><td>45<\/td><td>2013-01-04T17:00:00Z<\/td><\/tr>\n",
       "\t<tr><td>2013<\/td><td>1<\/td><td>4<\/td><td>  NA<\/td><td>1430<\/td><td>NA<\/td><td>NA<\/td><td>1735<\/td><td>NA<\/td><td>AA<\/td><td> 883<\/td><td>N200AA<\/td><td>EWR<\/td><td>DFW<\/td><td>NA<\/td><td>1372<\/td><td>14<\/td><td>30<\/td><td>2013-01-04T19:00:00Z<\/td><\/tr>\n",
       "\t<tr><td>⋮<\/td><td>⋮<\/td><td>⋮<\/td><td>⋮<\/td><td>⋮<\/td><td>⋮<\/td><td>⋮<\/td><td>⋮<\/td><td>⋮<\/td><td>⋮<\/td><td>⋮<\/td><td>⋮<\/td><td>⋮<\/td><td>⋮<\/td><td>⋮<\/td><td>⋮<\/td><td>⋮<\/td><td>⋮<\/td><td>⋮<\/td><\/tr>\n",
       "\t<tr><td>2013<\/td><td>9<\/td><td>25<\/td><td>  NA<\/td><td> 845<\/td><td> NA<\/td><td>NA<\/td><td>1018<\/td><td>NA<\/td><td>EV<\/td><td>5286<\/td><td>N615QX<\/td><td>LGA<\/td><td>BTV<\/td><td>NA<\/td><td> 258<\/td><td> 8<\/td><td>45<\/td><td>2013-09-25T12:00:00Z<\/td><\/tr>\n",
       "\t<tr><td>2013<\/td><td>9<\/td><td>25<\/td><td>  NA<\/td><td>1755<\/td><td> NA<\/td><td>NA<\/td><td>1932<\/td><td>NA<\/td><td>EV<\/td><td>5287<\/td><td>N722EV<\/td><td>LGA<\/td><td>MSN<\/td><td>NA<\/td><td> 812<\/td><td>17<\/td><td>55<\/td><td>2013-09-25T21:00:00Z<\/td><\/tr>\n",
       "\t<tr><td>2013<\/td><td>9<\/td><td>25<\/td><td>  NA<\/td><td> 600<\/td><td> NA<\/td><td>NA<\/td><td> 716<\/td><td>NA<\/td><td>EV<\/td><td>5716<\/td><td>N877AS<\/td><td>JFK<\/td><td>IAD<\/td><td>NA<\/td><td> 228<\/td><td> 6<\/td><td> 0<\/td><td>2013-09-25T10:00:00Z<\/td><\/tr>\n",
       "\t<tr><td>2013<\/td><td>9<\/td><td>25<\/td><td>  NA<\/td><td> 836<\/td><td> NA<\/td><td>NA<\/td><td> 944<\/td><td>NA<\/td><td>B6<\/td><td>2280<\/td><td>N258JB<\/td><td>EWR<\/td><td>BOS<\/td><td>NA<\/td><td> 200<\/td><td> 8<\/td><td>36<\/td><td>2013-09-25T12:00:00Z<\/td><\/tr>\n",
       "\t<tr><td>2013<\/td><td>9<\/td><td>25<\/td><td>  NA<\/td><td>1300<\/td><td> NA<\/td><td>NA<\/td><td>1409<\/td><td>NA<\/td><td>US<\/td><td>2148<\/td><td>NA    <\/td><td>LGA<\/td><td>BOS<\/td><td>NA<\/td><td> 184<\/td><td>13<\/td><td> 0<\/td><td>2013-09-25T17:00:00Z<\/td><\/tr>\n",
       "\t<tr><td>2013<\/td><td>9<\/td><td>25<\/td><td>  NA<\/td><td>1900<\/td><td> NA<\/td><td>NA<\/td><td>2014<\/td><td>NA<\/td><td>US<\/td><td>2160<\/td><td>NA    <\/td><td>LGA<\/td><td>BOS<\/td><td>NA<\/td><td> 184<\/td><td>19<\/td><td> 0<\/td><td>2013-09-25T23:00:00Z<\/td><\/tr>\n",
       "\t<tr><td>2013<\/td><td>9<\/td><td>25<\/td><td>  NA<\/td><td>1300<\/td><td> NA<\/td><td>NA<\/td><td>1450<\/td><td>NA<\/td><td>MQ<\/td><td>3388<\/td><td>N817MQ<\/td><td>LGA<\/td><td>CMH<\/td><td>NA<\/td><td> 479<\/td><td>13<\/td><td> 0<\/td><td>2013-09-25T17:00:00Z<\/td><\/tr>\n",
       "\t<tr><td>2013<\/td><td>9<\/td><td>25<\/td><td>  NA<\/td><td>1655<\/td><td> NA<\/td><td>NA<\/td><td>1840<\/td><td>NA<\/td><td>MQ<\/td><td>3411<\/td><td>N735MQ<\/td><td>LGA<\/td><td>RDU<\/td><td>NA<\/td><td> 431<\/td><td>16<\/td><td>55<\/td><td>2013-09-25T20:00:00Z<\/td><\/tr>\n",
       "\t<tr><td>2013<\/td><td>9<\/td><td>25<\/td><td>  NA<\/td><td>1559<\/td><td> NA<\/td><td>NA<\/td><td>1719<\/td><td>NA<\/td><td>MQ<\/td><td>3748<\/td><td>N530MQ<\/td><td>EWR<\/td><td>ORD<\/td><td>NA<\/td><td> 719<\/td><td>15<\/td><td>59<\/td><td>2013-09-25T19:00:00Z<\/td><\/tr>\n",
       "\t<tr><td>2013<\/td><td>9<\/td><td>26<\/td><td>  NA<\/td><td> 915<\/td><td> NA<\/td><td>NA<\/td><td>1141<\/td><td>NA<\/td><td>EV<\/td><td>5109<\/td><td>N748EV<\/td><td>LGA<\/td><td>CHS<\/td><td>NA<\/td><td> 641<\/td><td> 9<\/td><td>15<\/td><td>2013-09-26T13:00:00Z<\/td><\/tr>\n",
       "\t<tr><td>2013<\/td><td>9<\/td><td>26<\/td><td>  NA<\/td><td>1400<\/td><td> NA<\/td><td>NA<\/td><td>1512<\/td><td>NA<\/td><td>US<\/td><td>2183<\/td><td>NA    <\/td><td>LGA<\/td><td>DCA<\/td><td>NA<\/td><td> 214<\/td><td>14<\/td><td> 0<\/td><td>2013-09-26T18:00:00Z<\/td><\/tr>\n",
       "\t<tr><td>2013<\/td><td>9<\/td><td>26<\/td><td>  NA<\/td><td>1240<\/td><td> NA<\/td><td>NA<\/td><td>1525<\/td><td>NA<\/td><td>WN<\/td><td>4720<\/td><td>N691WN<\/td><td>EWR<\/td><td>HOU<\/td><td>NA<\/td><td>1411<\/td><td>12<\/td><td>40<\/td><td>2013-09-26T16:00:00Z<\/td><\/tr>\n",
       "\t<tr><td>2013<\/td><td>9<\/td><td>27<\/td><td>2253<\/td><td>1945<\/td><td>188<\/td><td>NA<\/td><td>2146<\/td><td>NA<\/td><td>EV<\/td><td>5306<\/td><td>N605QX<\/td><td>LGA<\/td><td>GSO<\/td><td>NA<\/td><td> 461<\/td><td>19<\/td><td>45<\/td><td>2013-09-27T23:00:00Z<\/td><\/tr>\n",
       "\t<tr><td>2013<\/td><td>9<\/td><td>27<\/td><td>  NA<\/td><td> 600<\/td><td> NA<\/td><td>NA<\/td><td> 730<\/td><td>NA<\/td><td>AA<\/td><td> 301<\/td><td>N584AA<\/td><td>LGA<\/td><td>ORD<\/td><td>NA<\/td><td> 733<\/td><td> 6<\/td><td> 0<\/td><td>2013-09-27T10:00:00Z<\/td><\/tr>\n",
       "\t<tr><td>2013<\/td><td>9<\/td><td>27<\/td><td>  NA<\/td><td>2100<\/td><td> NA<\/td><td>NA<\/td><td>2211<\/td><td>NA<\/td><td>US<\/td><td>2164<\/td><td>NA    <\/td><td>LGA<\/td><td>BOS<\/td><td>NA<\/td><td> 184<\/td><td>21<\/td><td> 0<\/td><td>2013-09-28T01:00:00Z<\/td><\/tr>\n",
       "\t<tr><td>2013<\/td><td>9<\/td><td>27<\/td><td>  NA<\/td><td>1329<\/td><td> NA<\/td><td>NA<\/td><td>1444<\/td><td>NA<\/td><td>MQ<\/td><td>3760<\/td><td>N505MQ<\/td><td>EWR<\/td><td>ORD<\/td><td>NA<\/td><td> 719<\/td><td>13<\/td><td>29<\/td><td>2013-09-27T17:00:00Z<\/td><\/tr>\n",
       "\t<tr><td>2013<\/td><td>9<\/td><td>27<\/td><td>  NA<\/td><td>1600<\/td><td> NA<\/td><td>NA<\/td><td>1739<\/td><td>NA<\/td><td>UA<\/td><td> 269<\/td><td>NA    <\/td><td>LGA<\/td><td>ORD<\/td><td>NA<\/td><td> 733<\/td><td>16<\/td><td> 0<\/td><td>2013-09-27T20:00:00Z<\/td><\/tr>\n",
       "\t<tr><td>2013<\/td><td>9<\/td><td>28<\/td><td>  NA<\/td><td>1803<\/td><td> NA<\/td><td>NA<\/td><td>1927<\/td><td>NA<\/td><td>EV<\/td><td>5563<\/td><td>N724EV<\/td><td>LGA<\/td><td>BTV<\/td><td>NA<\/td><td> 258<\/td><td>18<\/td><td> 3<\/td><td>2013-09-28T22:00:00Z<\/td><\/tr>\n",
       "\t<tr><td>2013<\/td><td>9<\/td><td>28<\/td><td>  NA<\/td><td> 910<\/td><td> NA<\/td><td>NA<\/td><td>1220<\/td><td>NA<\/td><td>AA<\/td><td>   1<\/td><td>N320AA<\/td><td>JFK<\/td><td>LAX<\/td><td>NA<\/td><td>2475<\/td><td> 9<\/td><td>10<\/td><td>2013-09-28T13:00:00Z<\/td><\/tr>\n",
       "\t<tr><td>2013<\/td><td>9<\/td><td>28<\/td><td>  NA<\/td><td>1635<\/td><td> NA<\/td><td>NA<\/td><td>1827<\/td><td>NA<\/td><td>US<\/td><td> 581<\/td><td>NA    <\/td><td>EWR<\/td><td>CLT<\/td><td>NA<\/td><td> 529<\/td><td>16<\/td><td>35<\/td><td>2013-09-28T20:00:00Z<\/td><\/tr>\n",
       "\t<tr><td>2013<\/td><td>9<\/td><td>29<\/td><td>  NA<\/td><td>2054<\/td><td> NA<\/td><td>NA<\/td><td>2302<\/td><td>NA<\/td><td>EV<\/td><td>4536<\/td><td>N13988<\/td><td>EWR<\/td><td>CVG<\/td><td>NA<\/td><td> 569<\/td><td>20<\/td><td>54<\/td><td>2013-09-30T00:00:00Z<\/td><\/tr>\n",
       "\t<tr><td>2013<\/td><td>9<\/td><td>29<\/td><td>  NA<\/td><td>1830<\/td><td> NA<\/td><td>NA<\/td><td>2010<\/td><td>NA<\/td><td>MQ<\/td><td>3134<\/td><td>N508MQ<\/td><td>EWR<\/td><td>ORD<\/td><td>NA<\/td><td> 719<\/td><td>18<\/td><td>30<\/td><td>2013-09-29T22:00:00Z<\/td><\/tr>\n",
       "\t<tr><td>2013<\/td><td>9<\/td><td>29<\/td><td>  NA<\/td><td> 700<\/td><td> NA<\/td><td>NA<\/td><td> 833<\/td><td>NA<\/td><td>UA<\/td><td> 331<\/td><td>NA    <\/td><td>LGA<\/td><td>ORD<\/td><td>NA<\/td><td> 733<\/td><td> 7<\/td><td> 0<\/td><td>2013-09-29T11:00:00Z<\/td><\/tr>\n",
       "\t<tr><td>2013<\/td><td>9<\/td><td>30<\/td><td> 559<\/td><td> 600<\/td><td> -1<\/td><td>NA<\/td><td> 715<\/td><td>NA<\/td><td>WN<\/td><td> 464<\/td><td>N411WN<\/td><td>EWR<\/td><td>MDW<\/td><td>NA<\/td><td> 711<\/td><td> 6<\/td><td> 0<\/td><td>2013-09-30T10:00:00Z<\/td><\/tr>\n",
       "\t<tr><td>2013<\/td><td>9<\/td><td>30<\/td><td>  NA<\/td><td>1842<\/td><td> NA<\/td><td>NA<\/td><td>2019<\/td><td>NA<\/td><td>EV<\/td><td>5274<\/td><td>N740EV<\/td><td>LGA<\/td><td>BNA<\/td><td>NA<\/td><td> 764<\/td><td>18<\/td><td>42<\/td><td>2013-09-30T22:00:00Z<\/td><\/tr>\n",
       "\t<tr><td>2013<\/td><td>9<\/td><td>30<\/td><td>  NA<\/td><td>1455<\/td><td> NA<\/td><td>NA<\/td><td>1634<\/td><td>NA<\/td><td>9E<\/td><td>3393<\/td><td>NA    <\/td><td>JFK<\/td><td>DCA<\/td><td>NA<\/td><td> 213<\/td><td>14<\/td><td>55<\/td><td>2013-09-30T18:00:00Z<\/td><\/tr>\n",
       "\t<tr><td>2013<\/td><td>9<\/td><td>30<\/td><td>  NA<\/td><td>2200<\/td><td> NA<\/td><td>NA<\/td><td>2312<\/td><td>NA<\/td><td>9E<\/td><td>3525<\/td><td>NA    <\/td><td>LGA<\/td><td>SYR<\/td><td>NA<\/td><td> 198<\/td><td>22<\/td><td> 0<\/td><td>2013-10-01T02:00:00Z<\/td><\/tr>\n",
       "\t<tr><td>2013<\/td><td>9<\/td><td>30<\/td><td>  NA<\/td><td>1210<\/td><td> NA<\/td><td>NA<\/td><td>1330<\/td><td>NA<\/td><td>MQ<\/td><td>3461<\/td><td>N535MQ<\/td><td>LGA<\/td><td>BNA<\/td><td>NA<\/td><td> 764<\/td><td>12<\/td><td>10<\/td><td>2013-09-30T16:00:00Z<\/td><\/tr>\n",
       "\t<tr><td>2013<\/td><td>9<\/td><td>30<\/td><td>  NA<\/td><td>1159<\/td><td> NA<\/td><td>NA<\/td><td>1344<\/td><td>NA<\/td><td>MQ<\/td><td>3572<\/td><td>N511MQ<\/td><td>LGA<\/td><td>CLE<\/td><td>NA<\/td><td> 419<\/td><td>11<\/td><td>59<\/td><td>2013-09-30T15:00:00Z<\/td><\/tr>\n",
       "\t<tr><td>2013<\/td><td>9<\/td><td>30<\/td><td>  NA<\/td><td> 840<\/td><td> NA<\/td><td>NA<\/td><td>1020<\/td><td>NA<\/td><td>MQ<\/td><td>3531<\/td><td>N839MQ<\/td><td>LGA<\/td><td>RDU<\/td><td>NA<\/td><td> 431<\/td><td> 8<\/td><td>40<\/td><td>2013-09-30T12:00:00Z<\/td><\/tr>\n",
       "<\/tbody>\n",
       "<\/table>\n"
      ]
     },
     "metadata":{
      
     },
     "output_type":"display_data"
    }
   ],
   "metadata":{
    "datalore":{
     "node_id":"DfcibTGiNV6i6iSsmOUrIV",
     "type":"CODE",
     "hide_input_from_viewers":false,
     "hide_output_from_viewers":false
    }
   }
  },
  {
   "cell_type":"code",
   "source":[
    "clean_flight <- drop_na(flights)"
   ],
   "execution_count":4,
   "outputs":[
    
   ],
   "metadata":{
    "datalore":{
     "node_id":"kemuTe1Rmm2oixIWtjxirm",
     "type":"CODE",
     "hide_input_from_viewers":false,
     "hide_output_from_viewers":false
    }
   }
  },
  {
   "cell_type":"code",
   "source":[
    "clean_flight"
   ],
   "execution_count":49,
   "outputs":[
    {
     "data":{
      "text\/html":[
       "<table class=\"dataframe\">\n",
       "<caption>A data.frame: 327346 × 19<\/caption>\n",
       "<thead>\n",
       "\t<tr><th scope=col>year<\/th><th scope=col>month<\/th><th scope=col>day<\/th><th scope=col>dep_time<\/th><th scope=col>sched_dep_time<\/th><th scope=col>dep_delay<\/th><th scope=col>arr_time<\/th><th scope=col>sched_arr_time<\/th><th scope=col>arr_delay<\/th><th scope=col>carrier<\/th><th scope=col>flight<\/th><th scope=col>tailnum<\/th><th scope=col>origin<\/th><th scope=col>dest<\/th><th scope=col>air_time<\/th><th scope=col>distance<\/th><th scope=col>hour<\/th><th scope=col>minute<\/th><th scope=col>time_hour<\/th><\/tr>\n",
       "\t<tr><th scope=col>&lt;int&gt;<\/th><th scope=col>&lt;int&gt;<\/th><th scope=col>&lt;int&gt;<\/th><th scope=col>&lt;int&gt;<\/th><th scope=col>&lt;int&gt;<\/th><th scope=col>&lt;int&gt;<\/th><th scope=col>&lt;int&gt;<\/th><th scope=col>&lt;int&gt;<\/th><th scope=col>&lt;int&gt;<\/th><th scope=col>&lt;chr&gt;<\/th><th scope=col>&lt;int&gt;<\/th><th scope=col>&lt;chr&gt;<\/th><th scope=col>&lt;chr&gt;<\/th><th scope=col>&lt;chr&gt;<\/th><th scope=col>&lt;int&gt;<\/th><th scope=col>&lt;int&gt;<\/th><th scope=col>&lt;int&gt;<\/th><th scope=col>&lt;int&gt;<\/th><th scope=col>&lt;chr&gt;<\/th><\/tr>\n",
       "<\/thead>\n",
       "<tbody>\n",
       "\t<tr><td>2013<\/td><td>1<\/td><td>1<\/td><td>517<\/td><td>515<\/td><td> 2<\/td><td> 830<\/td><td> 819<\/td><td> 11<\/td><td>UA<\/td><td>1545<\/td><td>N14228<\/td><td>EWR<\/td><td>IAH<\/td><td>227<\/td><td>1400<\/td><td>5<\/td><td>15<\/td><td>2013-01-01T10:00:00Z<\/td><\/tr>\n",
       "\t<tr><td>2013<\/td><td>1<\/td><td>1<\/td><td>533<\/td><td>529<\/td><td> 4<\/td><td> 850<\/td><td> 830<\/td><td> 20<\/td><td>UA<\/td><td>1714<\/td><td>N24211<\/td><td>LGA<\/td><td>IAH<\/td><td>227<\/td><td>1416<\/td><td>5<\/td><td>29<\/td><td>2013-01-01T10:00:00Z<\/td><\/tr>\n",
       "\t<tr><td>2013<\/td><td>1<\/td><td>1<\/td><td>542<\/td><td>540<\/td><td> 2<\/td><td> 923<\/td><td> 850<\/td><td> 33<\/td><td>AA<\/td><td>1141<\/td><td>N619AA<\/td><td>JFK<\/td><td>MIA<\/td><td>160<\/td><td>1089<\/td><td>5<\/td><td>40<\/td><td>2013-01-01T10:00:00Z<\/td><\/tr>\n",
       "\t<tr><td>2013<\/td><td>1<\/td><td>1<\/td><td>544<\/td><td>545<\/td><td>-1<\/td><td>1004<\/td><td>1022<\/td><td>-18<\/td><td>B6<\/td><td> 725<\/td><td>N804JB<\/td><td>JFK<\/td><td>BQN<\/td><td>183<\/td><td>1576<\/td><td>5<\/td><td>45<\/td><td>2013-01-01T10:00:00Z<\/td><\/tr>\n",
       "\t<tr><td>2013<\/td><td>1<\/td><td>1<\/td><td>554<\/td><td>600<\/td><td>-6<\/td><td> 812<\/td><td> 837<\/td><td>-25<\/td><td>DL<\/td><td> 461<\/td><td>N668DN<\/td><td>LGA<\/td><td>ATL<\/td><td>116<\/td><td> 762<\/td><td>6<\/td><td> 0<\/td><td>2013-01-01T11:00:00Z<\/td><\/tr>\n",
       "\t<tr><td>2013<\/td><td>1<\/td><td>1<\/td><td>554<\/td><td>558<\/td><td>-4<\/td><td> 740<\/td><td> 728<\/td><td> 12<\/td><td>UA<\/td><td>1696<\/td><td>N39463<\/td><td>EWR<\/td><td>ORD<\/td><td>150<\/td><td> 719<\/td><td>5<\/td><td>58<\/td><td>2013-01-01T10:00:00Z<\/td><\/tr>\n",
       "\t<tr><td>2013<\/td><td>1<\/td><td>1<\/td><td>555<\/td><td>600<\/td><td>-5<\/td><td> 913<\/td><td> 854<\/td><td> 19<\/td><td>B6<\/td><td> 507<\/td><td>N516JB<\/td><td>EWR<\/td><td>FLL<\/td><td>158<\/td><td>1065<\/td><td>6<\/td><td> 0<\/td><td>2013-01-01T11:00:00Z<\/td><\/tr>\n",
       "\t<tr><td>2013<\/td><td>1<\/td><td>1<\/td><td>557<\/td><td>600<\/td><td>-3<\/td><td> 709<\/td><td> 723<\/td><td>-14<\/td><td>EV<\/td><td>5708<\/td><td>N829AS<\/td><td>LGA<\/td><td>IAD<\/td><td> 53<\/td><td> 229<\/td><td>6<\/td><td> 0<\/td><td>2013-01-01T11:00:00Z<\/td><\/tr>\n",
       "\t<tr><td>2013<\/td><td>1<\/td><td>1<\/td><td>557<\/td><td>600<\/td><td>-3<\/td><td> 838<\/td><td> 846<\/td><td> -8<\/td><td>B6<\/td><td>  79<\/td><td>N593JB<\/td><td>JFK<\/td><td>MCO<\/td><td>140<\/td><td> 944<\/td><td>6<\/td><td> 0<\/td><td>2013-01-01T11:00:00Z<\/td><\/tr>\n",
       "\t<tr><td>2013<\/td><td>1<\/td><td>1<\/td><td>558<\/td><td>600<\/td><td>-2<\/td><td> 753<\/td><td> 745<\/td><td>  8<\/td><td>AA<\/td><td> 301<\/td><td>N3ALAA<\/td><td>LGA<\/td><td>ORD<\/td><td>138<\/td><td> 733<\/td><td>6<\/td><td> 0<\/td><td>2013-01-01T11:00:00Z<\/td><\/tr>\n",
       "\t<tr><td>2013<\/td><td>1<\/td><td>1<\/td><td>558<\/td><td>600<\/td><td>-2<\/td><td> 849<\/td><td> 851<\/td><td> -2<\/td><td>B6<\/td><td>  49<\/td><td>N793JB<\/td><td>JFK<\/td><td>PBI<\/td><td>149<\/td><td>1028<\/td><td>6<\/td><td> 0<\/td><td>2013-01-01T11:00:00Z<\/td><\/tr>\n",
       "\t<tr><td>2013<\/td><td>1<\/td><td>1<\/td><td>558<\/td><td>600<\/td><td>-2<\/td><td> 853<\/td><td> 856<\/td><td> -3<\/td><td>B6<\/td><td>  71<\/td><td>N657JB<\/td><td>JFK<\/td><td>TPA<\/td><td>158<\/td><td>1005<\/td><td>6<\/td><td> 0<\/td><td>2013-01-01T11:00:00Z<\/td><\/tr>\n",
       "\t<tr><td>2013<\/td><td>1<\/td><td>1<\/td><td>558<\/td><td>600<\/td><td>-2<\/td><td> 924<\/td><td> 917<\/td><td>  7<\/td><td>UA<\/td><td> 194<\/td><td>N29129<\/td><td>JFK<\/td><td>LAX<\/td><td>345<\/td><td>2475<\/td><td>6<\/td><td> 0<\/td><td>2013-01-01T11:00:00Z<\/td><\/tr>\n",
       "\t<tr><td>2013<\/td><td>1<\/td><td>1<\/td><td>558<\/td><td>600<\/td><td>-2<\/td><td> 923<\/td><td> 937<\/td><td>-14<\/td><td>UA<\/td><td>1124<\/td><td>N53441<\/td><td>EWR<\/td><td>SFO<\/td><td>361<\/td><td>2565<\/td><td>6<\/td><td> 0<\/td><td>2013-01-01T11:00:00Z<\/td><\/tr>\n",
       "\t<tr><td>2013<\/td><td>1<\/td><td>1<\/td><td>559<\/td><td>600<\/td><td>-1<\/td><td> 941<\/td><td> 910<\/td><td> 31<\/td><td>AA<\/td><td> 707<\/td><td>N3DUAA<\/td><td>LGA<\/td><td>DFW<\/td><td>257<\/td><td>1389<\/td><td>6<\/td><td> 0<\/td><td>2013-01-01T11:00:00Z<\/td><\/tr>\n",
       "\t<tr><td>2013<\/td><td>1<\/td><td>1<\/td><td>559<\/td><td>559<\/td><td> 0<\/td><td> 702<\/td><td> 706<\/td><td> -4<\/td><td>B6<\/td><td>1806<\/td><td>N708JB<\/td><td>JFK<\/td><td>BOS<\/td><td> 44<\/td><td> 187<\/td><td>5<\/td><td>59<\/td><td>2013-01-01T10:00:00Z<\/td><\/tr>\n",
       "\t<tr><td>2013<\/td><td>1<\/td><td>1<\/td><td>559<\/td><td>600<\/td><td>-1<\/td><td> 854<\/td><td> 902<\/td><td> -8<\/td><td>UA<\/td><td>1187<\/td><td>N76515<\/td><td>EWR<\/td><td>LAS<\/td><td>337<\/td><td>2227<\/td><td>6<\/td><td> 0<\/td><td>2013-01-01T11:00:00Z<\/td><\/tr>\n",
       "\t<tr><td>2013<\/td><td>1<\/td><td>1<\/td><td>600<\/td><td>600<\/td><td> 0<\/td><td> 851<\/td><td> 858<\/td><td> -7<\/td><td>B6<\/td><td> 371<\/td><td>N595JB<\/td><td>LGA<\/td><td>FLL<\/td><td>152<\/td><td>1076<\/td><td>6<\/td><td> 0<\/td><td>2013-01-01T11:00:00Z<\/td><\/tr>\n",
       "\t<tr><td>2013<\/td><td>1<\/td><td>1<\/td><td>600<\/td><td>600<\/td><td> 0<\/td><td> 837<\/td><td> 825<\/td><td> 12<\/td><td>MQ<\/td><td>4650<\/td><td>N542MQ<\/td><td>LGA<\/td><td>ATL<\/td><td>134<\/td><td> 762<\/td><td>6<\/td><td> 0<\/td><td>2013-01-01T11:00:00Z<\/td><\/tr>\n",
       "\t<tr><td>2013<\/td><td>1<\/td><td>1<\/td><td>601<\/td><td>600<\/td><td> 1<\/td><td> 844<\/td><td> 850<\/td><td> -6<\/td><td>B6<\/td><td> 343<\/td><td>N644JB<\/td><td>EWR<\/td><td>PBI<\/td><td>147<\/td><td>1023<\/td><td>6<\/td><td> 0<\/td><td>2013-01-01T11:00:00Z<\/td><\/tr>\n",
       "\t<tr><td>2013<\/td><td>1<\/td><td>1<\/td><td>602<\/td><td>610<\/td><td>-8<\/td><td> 812<\/td><td> 820<\/td><td> -8<\/td><td>DL<\/td><td>1919<\/td><td>N971DL<\/td><td>LGA<\/td><td>MSP<\/td><td>170<\/td><td>1020<\/td><td>6<\/td><td>10<\/td><td>2013-01-01T11:00:00Z<\/td><\/tr>\n",
       "\t<tr><td>2013<\/td><td>1<\/td><td>1<\/td><td>602<\/td><td>605<\/td><td>-3<\/td><td> 821<\/td><td> 805<\/td><td> 16<\/td><td>MQ<\/td><td>4401<\/td><td>N730MQ<\/td><td>LGA<\/td><td>DTW<\/td><td>105<\/td><td> 502<\/td><td>6<\/td><td> 5<\/td><td>2013-01-01T11:00:00Z<\/td><\/tr>\n",
       "\t<tr><td>2013<\/td><td>1<\/td><td>1<\/td><td>606<\/td><td>610<\/td><td>-4<\/td><td> 858<\/td><td> 910<\/td><td>-12<\/td><td>AA<\/td><td>1895<\/td><td>N633AA<\/td><td>EWR<\/td><td>MIA<\/td><td>152<\/td><td>1085<\/td><td>6<\/td><td>10<\/td><td>2013-01-01T11:00:00Z<\/td><\/tr>\n",
       "\t<tr><td>2013<\/td><td>1<\/td><td>1<\/td><td>606<\/td><td>610<\/td><td>-4<\/td><td> 837<\/td><td> 845<\/td><td> -8<\/td><td>DL<\/td><td>1743<\/td><td>N3739P<\/td><td>JFK<\/td><td>ATL<\/td><td>128<\/td><td> 760<\/td><td>6<\/td><td>10<\/td><td>2013-01-01T11:00:00Z<\/td><\/tr>\n",
       "\t<tr><td>2013<\/td><td>1<\/td><td>1<\/td><td>607<\/td><td>607<\/td><td> 0<\/td><td> 858<\/td><td> 915<\/td><td>-17<\/td><td>UA<\/td><td>1077<\/td><td>N53442<\/td><td>EWR<\/td><td>MIA<\/td><td>157<\/td><td>1085<\/td><td>6<\/td><td> 7<\/td><td>2013-01-01T11:00:00Z<\/td><\/tr>\n",
       "\t<tr><td>2013<\/td><td>1<\/td><td>1<\/td><td>608<\/td><td>600<\/td><td> 8<\/td><td> 807<\/td><td> 735<\/td><td> 32<\/td><td>MQ<\/td><td>3768<\/td><td>N9EAMQ<\/td><td>EWR<\/td><td>ORD<\/td><td>139<\/td><td> 719<\/td><td>6<\/td><td> 0<\/td><td>2013-01-01T11:00:00Z<\/td><\/tr>\n",
       "\t<tr><td>2013<\/td><td>1<\/td><td>1<\/td><td>611<\/td><td>600<\/td><td>11<\/td><td> 945<\/td><td> 931<\/td><td> 14<\/td><td>UA<\/td><td> 303<\/td><td>N532UA<\/td><td>JFK<\/td><td>SFO<\/td><td>366<\/td><td>2586<\/td><td>6<\/td><td> 0<\/td><td>2013-01-01T11:00:00Z<\/td><\/tr>\n",
       "\t<tr><td>2013<\/td><td>1<\/td><td>1<\/td><td>613<\/td><td>610<\/td><td> 3<\/td><td> 925<\/td><td> 921<\/td><td>  4<\/td><td>B6<\/td><td> 135<\/td><td>N635JB<\/td><td>JFK<\/td><td>RSW<\/td><td>175<\/td><td>1074<\/td><td>6<\/td><td>10<\/td><td>2013-01-01T11:00:00Z<\/td><\/tr>\n",
       "\t<tr><td>2013<\/td><td>1<\/td><td>1<\/td><td>615<\/td><td>615<\/td><td> 0<\/td><td>1039<\/td><td>1100<\/td><td>-21<\/td><td>B6<\/td><td> 709<\/td><td>N794JB<\/td><td>JFK<\/td><td>SJU<\/td><td>182<\/td><td>1598<\/td><td>6<\/td><td>15<\/td><td>2013-01-01T11:00:00Z<\/td><\/tr>\n",
       "\t<tr><td>2013<\/td><td>1<\/td><td>1<\/td><td>615<\/td><td>615<\/td><td> 0<\/td><td> 833<\/td><td> 842<\/td><td> -9<\/td><td>DL<\/td><td> 575<\/td><td>N326NB<\/td><td>EWR<\/td><td>ATL<\/td><td>120<\/td><td> 746<\/td><td>6<\/td><td>15<\/td><td>2013-01-01T11:00:00Z<\/td><\/tr>\n",
       "\t<tr><td>⋮<\/td><td>⋮<\/td><td>⋮<\/td><td>⋮<\/td><td>⋮<\/td><td>⋮<\/td><td>⋮<\/td><td>⋮<\/td><td>⋮<\/td><td>⋮<\/td><td>⋮<\/td><td>⋮<\/td><td>⋮<\/td><td>⋮<\/td><td>⋮<\/td><td>⋮<\/td><td>⋮<\/td><td>⋮<\/td><td>⋮<\/td><\/tr>\n",
       "\t<tr><td>2013<\/td><td>9<\/td><td>30<\/td><td>2115<\/td><td>2110<\/td><td>  5<\/td><td>2246<\/td><td>2255<\/td><td> -9<\/td><td>MQ<\/td><td>3603<\/td><td>N519MQ<\/td><td>LGA<\/td><td>DTW<\/td><td> 72<\/td><td> 502<\/td><td>21<\/td><td>10<\/td><td>2013-10-01T01:00:00Z<\/td><\/tr>\n",
       "\t<tr><td>2013<\/td><td>9<\/td><td>30<\/td><td>2116<\/td><td>2124<\/td><td> -8<\/td><td>2317<\/td><td>2337<\/td><td>-20<\/td><td>EV<\/td><td>4682<\/td><td>N14542<\/td><td>EWR<\/td><td>SDF<\/td><td> 94<\/td><td> 642<\/td><td>21<\/td><td>24<\/td><td>2013-10-01T01:00:00Z<\/td><\/tr>\n",
       "\t<tr><td>2013<\/td><td>9<\/td><td>30<\/td><td>2119<\/td><td>2005<\/td><td> 74<\/td><td>2310<\/td><td>2212<\/td><td> 58<\/td><td>EV<\/td><td>4321<\/td><td>N17984<\/td><td>EWR<\/td><td>MCI<\/td><td>147<\/td><td>1092<\/td><td>20<\/td><td> 5<\/td><td>2013-10-01T00:00:00Z<\/td><\/tr>\n",
       "\t<tr><td>2013<\/td><td>9<\/td><td>30<\/td><td>2119<\/td><td>2120<\/td><td> -1<\/td><td>2330<\/td><td>2354<\/td><td>-24<\/td><td>B6<\/td><td>1677<\/td><td>N358JB<\/td><td>JFK<\/td><td>JAX<\/td><td>113<\/td><td> 828<\/td><td>21<\/td><td>20<\/td><td>2013-10-01T01:00:00Z<\/td><\/tr>\n",
       "\t<tr><td>2013<\/td><td>9<\/td><td>30<\/td><td>2121<\/td><td>2100<\/td><td> 21<\/td><td>2349<\/td><td>  14<\/td><td>-25<\/td><td>DL<\/td><td>2363<\/td><td>N193DN<\/td><td>JFK<\/td><td>LAX<\/td><td>296<\/td><td>2475<\/td><td>21<\/td><td> 0<\/td><td>2013-10-01T01:00:00Z<\/td><\/tr>\n",
       "\t<tr><td>2013<\/td><td>9<\/td><td>30<\/td><td>2122<\/td><td>2127<\/td><td> -5<\/td><td>2226<\/td><td>2237<\/td><td>-11<\/td><td>EV<\/td><td>4372<\/td><td>N14902<\/td><td>EWR<\/td><td>DCA<\/td><td> 35<\/td><td> 199<\/td><td>21<\/td><td>27<\/td><td>2013-10-01T01:00:00Z<\/td><\/tr>\n",
       "\t<tr><td>2013<\/td><td>9<\/td><td>30<\/td><td>2123<\/td><td>2125<\/td><td> -2<\/td><td>2223<\/td><td>2247<\/td><td>-24<\/td><td>EV<\/td><td>5489<\/td><td>N712EV<\/td><td>LGA<\/td><td>CHO<\/td><td> 45<\/td><td> 305<\/td><td>21<\/td><td>25<\/td><td>2013-10-01T01:00:00Z<\/td><\/tr>\n",
       "\t<tr><td>2013<\/td><td>9<\/td><td>30<\/td><td>2127<\/td><td>2129<\/td><td> -2<\/td><td>2314<\/td><td>2323<\/td><td> -9<\/td><td>EV<\/td><td>3833<\/td><td>N16546<\/td><td>EWR<\/td><td>CLT<\/td><td> 72<\/td><td> 529<\/td><td>21<\/td><td>29<\/td><td>2013-10-01T01:00:00Z<\/td><\/tr>\n",
       "\t<tr><td>2013<\/td><td>9<\/td><td>30<\/td><td>2128<\/td><td>2130<\/td><td> -2<\/td><td>2328<\/td><td>2359<\/td><td>-31<\/td><td>B6<\/td><td>  97<\/td><td>N807JB<\/td><td>JFK<\/td><td>DEN<\/td><td>213<\/td><td>1626<\/td><td>21<\/td><td>30<\/td><td>2013-10-01T01:00:00Z<\/td><\/tr>\n",
       "\t<tr><td>2013<\/td><td>9<\/td><td>30<\/td><td>2129<\/td><td>2059<\/td><td> 30<\/td><td>2230<\/td><td>2232<\/td><td> -2<\/td><td>EV<\/td><td>5048<\/td><td>N751EV<\/td><td>LGA<\/td><td>RIC<\/td><td> 45<\/td><td> 292<\/td><td>20<\/td><td>59<\/td><td>2013-10-01T00:00:00Z<\/td><\/tr>\n",
       "\t<tr><td>2013<\/td><td>9<\/td><td>30<\/td><td>2131<\/td><td>2140<\/td><td> -9<\/td><td>2225<\/td><td>2255<\/td><td>-30<\/td><td>MQ<\/td><td>3621<\/td><td>N807MQ<\/td><td>JFK<\/td><td>DCA<\/td><td> 36<\/td><td> 213<\/td><td>21<\/td><td>40<\/td><td>2013-10-01T01:00:00Z<\/td><\/tr>\n",
       "\t<tr><td>2013<\/td><td>9<\/td><td>30<\/td><td>2140<\/td><td>2140<\/td><td>  0<\/td><td>  10<\/td><td>  40<\/td><td>-30<\/td><td>AA<\/td><td> 185<\/td><td>N335AA<\/td><td>JFK<\/td><td>LAX<\/td><td>298<\/td><td>2475<\/td><td>21<\/td><td>40<\/td><td>2013-10-01T01:00:00Z<\/td><\/tr>\n",
       "\t<tr><td>2013<\/td><td>9<\/td><td>30<\/td><td>2142<\/td><td>2129<\/td><td> 13<\/td><td>2250<\/td><td>2239<\/td><td> 11<\/td><td>EV<\/td><td>4509<\/td><td>N12957<\/td><td>EWR<\/td><td>PWM<\/td><td> 47<\/td><td> 284<\/td><td>21<\/td><td>29<\/td><td>2013-10-01T01:00:00Z<\/td><\/tr>\n",
       "\t<tr><td>2013<\/td><td>9<\/td><td>30<\/td><td>2145<\/td><td>2145<\/td><td>  0<\/td><td> 115<\/td><td> 140<\/td><td>-25<\/td><td>B6<\/td><td>1103<\/td><td>N633JB<\/td><td>JFK<\/td><td>SJU<\/td><td>192<\/td><td>1598<\/td><td>21<\/td><td>45<\/td><td>2013-10-01T01:00:00Z<\/td><\/tr>\n",
       "\t<tr><td>2013<\/td><td>9<\/td><td>30<\/td><td>2147<\/td><td>2137<\/td><td> 10<\/td><td>  30<\/td><td>  27<\/td><td>  3<\/td><td>B6<\/td><td>1371<\/td><td>N627JB<\/td><td>LGA<\/td><td>FLL<\/td><td>139<\/td><td>1076<\/td><td>21<\/td><td>37<\/td><td>2013-10-01T01:00:00Z<\/td><\/tr>\n",
       "\t<tr><td>2013<\/td><td>9<\/td><td>30<\/td><td>2149<\/td><td>2156<\/td><td> -7<\/td><td>2245<\/td><td>2308<\/td><td>-23<\/td><td>UA<\/td><td> 523<\/td><td>N813UA<\/td><td>EWR<\/td><td>BOS<\/td><td> 37<\/td><td> 200<\/td><td>21<\/td><td>56<\/td><td>2013-10-01T01:00:00Z<\/td><\/tr>\n",
       "\t<tr><td>2013<\/td><td>9<\/td><td>30<\/td><td>2150<\/td><td>2159<\/td><td> -9<\/td><td>2250<\/td><td>2306<\/td><td>-16<\/td><td>EV<\/td><td>3842<\/td><td>N10575<\/td><td>EWR<\/td><td>MHT<\/td><td> 39<\/td><td> 209<\/td><td>21<\/td><td>59<\/td><td>2013-10-01T01:00:00Z<\/td><\/tr>\n",
       "\t<tr><td>2013<\/td><td>9<\/td><td>30<\/td><td>2159<\/td><td>1845<\/td><td>194<\/td><td>2344<\/td><td>2030<\/td><td>194<\/td><td>9E<\/td><td>3320<\/td><td>N906XJ<\/td><td>JFK<\/td><td>BUF<\/td><td> 50<\/td><td> 301<\/td><td>18<\/td><td>45<\/td><td>2013-09-30T22:00:00Z<\/td><\/tr>\n",
       "\t<tr><td>2013<\/td><td>9<\/td><td>30<\/td><td>2203<\/td><td>2205<\/td><td> -2<\/td><td>2339<\/td><td>2331<\/td><td>  8<\/td><td>EV<\/td><td>5311<\/td><td>N722EV<\/td><td>LGA<\/td><td>BGR<\/td><td> 61<\/td><td> 378<\/td><td>22<\/td><td> 5<\/td><td>2013-10-01T02:00:00Z<\/td><\/tr>\n",
       "\t<tr><td>2013<\/td><td>9<\/td><td>30<\/td><td>2207<\/td><td>2140<\/td><td> 27<\/td><td>2257<\/td><td>2250<\/td><td>  7<\/td><td>MQ<\/td><td>3660<\/td><td>N532MQ<\/td><td>LGA<\/td><td>BNA<\/td><td> 97<\/td><td> 764<\/td><td>21<\/td><td>40<\/td><td>2013-10-01T01:00:00Z<\/td><\/tr>\n",
       "\t<tr><td>2013<\/td><td>9<\/td><td>30<\/td><td>2211<\/td><td>2059<\/td><td> 72<\/td><td>2339<\/td><td>2242<\/td><td> 57<\/td><td>EV<\/td><td>4672<\/td><td>N12145<\/td><td>EWR<\/td><td>STL<\/td><td>120<\/td><td> 872<\/td><td>20<\/td><td>59<\/td><td>2013-10-01T00:00:00Z<\/td><\/tr>\n",
       "\t<tr><td>2013<\/td><td>9<\/td><td>30<\/td><td>2231<\/td><td>2245<\/td><td>-14<\/td><td>2335<\/td><td>2356<\/td><td>-21<\/td><td>B6<\/td><td> 108<\/td><td>N193JB<\/td><td>JFK<\/td><td>PWM<\/td><td> 48<\/td><td> 273<\/td><td>22<\/td><td>45<\/td><td>2013-10-01T02:00:00Z<\/td><\/tr>\n",
       "\t<tr><td>2013<\/td><td>9<\/td><td>30<\/td><td>2233<\/td><td>2113<\/td><td> 80<\/td><td> 112<\/td><td>  30<\/td><td> 42<\/td><td>UA<\/td><td> 471<\/td><td>N578UA<\/td><td>EWR<\/td><td>SFO<\/td><td>318<\/td><td>2565<\/td><td>21<\/td><td>13<\/td><td>2013-10-01T01:00:00Z<\/td><\/tr>\n",
       "\t<tr><td>2013<\/td><td>9<\/td><td>30<\/td><td>2235<\/td><td>2001<\/td><td>154<\/td><td>  59<\/td><td>2249<\/td><td>130<\/td><td>B6<\/td><td>1083<\/td><td>N804JB<\/td><td>JFK<\/td><td>MCO<\/td><td>123<\/td><td> 944<\/td><td>20<\/td><td> 1<\/td><td>2013-10-01T00:00:00Z<\/td><\/tr>\n",
       "\t<tr><td>2013<\/td><td>9<\/td><td>30<\/td><td>2237<\/td><td>2245<\/td><td> -8<\/td><td>2345<\/td><td>2353<\/td><td> -8<\/td><td>B6<\/td><td> 234<\/td><td>N318JB<\/td><td>JFK<\/td><td>BTV<\/td><td> 43<\/td><td> 266<\/td><td>22<\/td><td>45<\/td><td>2013-10-01T02:00:00Z<\/td><\/tr>\n",
       "\t<tr><td>2013<\/td><td>9<\/td><td>30<\/td><td>2240<\/td><td>2245<\/td><td> -5<\/td><td>2334<\/td><td>2351<\/td><td>-17<\/td><td>B6<\/td><td>1816<\/td><td>N354JB<\/td><td>JFK<\/td><td>SYR<\/td><td> 41<\/td><td> 209<\/td><td>22<\/td><td>45<\/td><td>2013-10-01T02:00:00Z<\/td><\/tr>\n",
       "\t<tr><td>2013<\/td><td>9<\/td><td>30<\/td><td>2240<\/td><td>2250<\/td><td>-10<\/td><td>2347<\/td><td>   7<\/td><td>-20<\/td><td>B6<\/td><td>2002<\/td><td>N281JB<\/td><td>JFK<\/td><td>BUF<\/td><td> 52<\/td><td> 301<\/td><td>22<\/td><td>50<\/td><td>2013-10-01T02:00:00Z<\/td><\/tr>\n",
       "\t<tr><td>2013<\/td><td>9<\/td><td>30<\/td><td>2241<\/td><td>2246<\/td><td> -5<\/td><td>2345<\/td><td>   1<\/td><td>-16<\/td><td>B6<\/td><td> 486<\/td><td>N346JB<\/td><td>JFK<\/td><td>ROC<\/td><td> 47<\/td><td> 264<\/td><td>22<\/td><td>46<\/td><td>2013-10-01T02:00:00Z<\/td><\/tr>\n",
       "\t<tr><td>2013<\/td><td>9<\/td><td>30<\/td><td>2307<\/td><td>2255<\/td><td> 12<\/td><td>2359<\/td><td>2358<\/td><td>  1<\/td><td>B6<\/td><td> 718<\/td><td>N565JB<\/td><td>JFK<\/td><td>BOS<\/td><td> 33<\/td><td> 187<\/td><td>22<\/td><td>55<\/td><td>2013-10-01T02:00:00Z<\/td><\/tr>\n",
       "\t<tr><td>2013<\/td><td>9<\/td><td>30<\/td><td>2349<\/td><td>2359<\/td><td>-10<\/td><td> 325<\/td><td> 350<\/td><td>-25<\/td><td>B6<\/td><td> 745<\/td><td>N516JB<\/td><td>JFK<\/td><td>PSE<\/td><td>196<\/td><td>1617<\/td><td>23<\/td><td>59<\/td><td>2013-10-01T03:00:00Z<\/td><\/tr>\n",
       "<\/tbody>\n",
       "<\/table>\n"
      ]
     },
     "metadata":{
      
     },
     "output_type":"display_data"
    }
   ],
   "metadata":{
    "datalore":{
     "node_id":"tgt80TYoJx3nkliQr6NWRV",
     "type":"CODE",
     "hide_input_from_viewers":false,
     "hide_output_from_viewers":false
    }
   }
  },
  {
   "cell_type":"code",
   "source":[
    "apply(clean_flight, MARGIN=2,check_na)"
   ],
   "execution_count":53,
   "outputs":[
    {
     "data":{
      "text\/html":[
       "<style>\n",
       ".dl-inline {width: auto; margin:0; padding: 0}\n",
       ".dl-inline>dt, .dl-inline>dd {float: none; width: auto; display: inline-block}\n",
       ".dl-inline>dt::after {content: \":\\0020\"; padding-right: .5ex}\n",
       ".dl-inline>dt:not(:first-of-type) {padding-left: .5ex}\n",
       "<\/style><dl class=dl-inline><dt>year<\/dt><dd>0<\/dd><dt>month<\/dt><dd>0<\/dd><dt>day<\/dt><dd>0<\/dd><dt>dep_time<\/dt><dd>0<\/dd><dt>sched_dep_time<\/dt><dd>0<\/dd><dt>dep_delay<\/dt><dd>0<\/dd><dt>arr_time<\/dt><dd>0<\/dd><dt>sched_arr_time<\/dt><dd>0<\/dd><dt>arr_delay<\/dt><dd>0<\/dd><dt>carrier<\/dt><dd>0<\/dd><dt>flight<\/dt><dd>0<\/dd><dt>tailnum<\/dt><dd>0<\/dd><dt>origin<\/dt><dd>0<\/dd><dt>dest<\/dt><dd>0<\/dd><dt>air_time<\/dt><dd>0<\/dd><dt>distance<\/dt><dd>0<\/dd><dt>hour<\/dt><dd>0<\/dd><dt>minute<\/dt><dd>0<\/dd><dt>time_hour<\/dt><dd>0<\/dd><\/dl>\n"
      ]
     },
     "metadata":{
      
     },
     "output_type":"display_data"
    }
   ],
   "metadata":{
    "datalore":{
     "node_id":"zRaCjAezshMFPk8ABqA5Ue",
     "type":"CODE",
     "hide_input_from_viewers":false,
     "hide_output_from_viewers":false
    }
   }
  },
  {
   "cell_type":"code",
   "source":[
    "glimpse(clean_flight)"
   ],
   "execution_count":51,
   "outputs":[
    {
     "name":"stdout",
     "text":[
      "Rows: 327,346\n",
      "Columns: 19\n",
      "$ year           \u001b[3m\u001b[90m<int>\u001b[39m\u001b[23m 2013, 2013, 2013, 2013, 2013, 2013, 2013, 2013, 2013, 2…\n",
      "$ month          \u001b[3m\u001b[90m<int>\u001b[39m\u001b[23m 1, 1, 1, 1, 1, 1, 1, 1, 1, 1, 1, 1, 1, 1, 1, 1, 1, 1, 1…\n",
      "$ day            \u001b[3m\u001b[90m<int>\u001b[39m\u001b[23m 1, 1, 1, 1, 1, 1, 1, 1, 1, 1, 1, 1, 1, 1, 1, 1, 1, 1, 1…\n",
      "$ dep_time       \u001b[3m\u001b[90m<int>\u001b[39m\u001b[23m 517, 533, 542, 544, 554, 554, 555, 557, 557, 558, 558, …\n",
      "$ sched_dep_time \u001b[3m\u001b[90m<int>\u001b[39m\u001b[23m 515, 529, 540, 545, 600, 558, 600, 600, 600, 600, 600, …\n",
      "$ dep_delay      \u001b[3m\u001b[90m<int>\u001b[39m\u001b[23m 2, 4, 2, -1, -6, -4, -5, -3, -3, -2, -2, -2, -2, -2, -1…\n",
      "$ arr_time       \u001b[3m\u001b[90m<int>\u001b[39m\u001b[23m 830, 850, 923, 1004, 812, 740, 913, 709, 838, 753, 849,…\n",
      "$ sched_arr_time \u001b[3m\u001b[90m<int>\u001b[39m\u001b[23m 819, 830, 850, 1022, 837, 728, 854, 723, 846, 745, 851,…\n",
      "$ arr_delay      \u001b[3m\u001b[90m<int>\u001b[39m\u001b[23m 11, 20, 33, -18, -25, 12, 19, -14, -8, 8, -2, -3, 7, -1…\n",
      "$ carrier        \u001b[3m\u001b[90m<chr>\u001b[39m\u001b[23m \"UA\", \"UA\", \"AA\", \"B6\", \"DL\", \"UA\", \"B6\", \"EV\", \"B6\", \"…\n",
      "$ flight         \u001b[3m\u001b[90m<int>\u001b[39m\u001b[23m 1545, 1714, 1141, 725, 461, 1696, 507, 5708, 79, 301, 4…\n",
      "$ tailnum        \u001b[3m\u001b[90m<chr>\u001b[39m\u001b[23m \"N14228\", \"N24211\", \"N619AA\", \"N804JB\", \"N668DN\", \"N394…\n",
      "$ origin         \u001b[3m\u001b[90m<chr>\u001b[39m\u001b[23m \"EWR\", \"LGA\", \"JFK\", \"JFK\", \"LGA\", \"EWR\", \"EWR\", \"LGA\",…\n",
      "$ dest           \u001b[3m\u001b[90m<chr>\u001b[39m\u001b[23m \"IAH\", \"IAH\", \"MIA\", \"BQN\", \"ATL\", \"ORD\", \"FLL\", \"IAD\",…\n",
      "$ air_time       \u001b[3m\u001b[90m<int>\u001b[39m\u001b[23m 227, 227, 160, 183, 116, 150, 158, 53, 140, 138, 149, 1…\n",
      "$ distance       \u001b[3m\u001b[90m<int>\u001b[39m\u001b[23m 1400, 1416, 1089, 1576, 762, 719, 1065, 229, 944, 733, …\n",
      "$ hour           \u001b[3m\u001b[90m<int>\u001b[39m\u001b[23m 5, 5, 5, 5, 6, 5, 6, 6, 6, 6, 6, 6, 6, 6, 6, 5, 6, 6, 6…\n",
      "$ minute         \u001b[3m\u001b[90m<int>\u001b[39m\u001b[23m 15, 29, 40, 45, 0, 58, 0, 0, 0, 0, 0, 0, 0, 0, 0, 59, 0…\n",
      "$ time_hour      \u001b[3m\u001b[90m<chr>\u001b[39m\u001b[23m \"2013-01-01T10:00:00Z\", \"2013-01-01T10:00:00Z\", \"2013-0…\n"
     ],
     "output_type":"stream"
    }
   ],
   "metadata":{
    "datalore":{
     "node_id":"mzYytnA7Pc2Y2AhOJRAIML",
     "type":"CODE",
     "hide_input_from_viewers":false,
     "hide_output_from_viewers":false
    }
   }
  },
  {
   "cell_type":"code",
   "source":[
    "glimpse(airlines)"
   ],
   "execution_count":14,
   "outputs":[
    {
     "name":"stdout",
     "text":[
      "Rows: 16\n",
      "Columns: 2\n",
      "$ carrier \u001b[3m\u001b[90m<chr>\u001b[39m\u001b[23m \"9E\", \"AA\", \"AS\", \"B6\", \"DL\", \"EV\", \"F9\", \"FL\", \"HA\", \"MQ\", \"O…\n",
      "$ name    \u001b[3m\u001b[90m<chr>\u001b[39m\u001b[23m \"Endeavor Air Inc.\", \"American Airlines Inc.\", \"Alaska Airline…\n"
     ],
     "output_type":"stream"
    }
   ],
   "metadata":{
    "datalore":{
     "node_id":"cQTqeugvNRyoMvHQpeGAnZ",
     "type":"CODE",
     "hide_input_from_viewers":false,
     "hide_output_from_viewers":false
    }
   }
  },
  {
   "cell_type":"code",
   "source":[
    "glimpse(planes)"
   ],
   "execution_count":59,
   "outputs":[
    {
     "name":"stdout",
     "text":[
      "Rows: 3,322\n",
      "Columns: 9\n",
      "$ tailnum      \u001b[3m\u001b[90m<chr>\u001b[39m\u001b[23m \"N10156\", \"N102UW\", \"N103US\", \"N104UW\", \"N10575\", \"N105UW…\n",
      "$ year         \u001b[3m\u001b[90m<int>\u001b[39m\u001b[23m 2004, 1998, 1999, 1999, 2002, 1999, 1999, 1999, 1999, 199…\n",
      "$ type         \u001b[3m\u001b[90m<chr>\u001b[39m\u001b[23m \"Fixed wing multi engine\", \"Fixed wing multi engine\", \"Fi…\n",
      "$ manufacturer \u001b[3m\u001b[90m<chr>\u001b[39m\u001b[23m \"EMBRAER\", \"AIRBUS INDUSTRIE\", \"AIRBUS INDUSTRIE\", \"AIRBU…\n",
      "$ model        \u001b[3m\u001b[90m<chr>\u001b[39m\u001b[23m \"EMB-145XR\", \"A320-214\", \"A320-214\", \"A320-214\", \"EMB-145…\n",
      "$ engines      \u001b[3m\u001b[90m<int>\u001b[39m\u001b[23m 2, 2, 2, 2, 2, 2, 2, 2, 2, 2, 2, 2, 2, 2, 2, 2, 2, 2, 2, …\n",
      "$ seats        \u001b[3m\u001b[90m<int>\u001b[39m\u001b[23m 55, 182, 182, 182, 55, 182, 182, 182, 182, 182, 55, 55, 5…\n",
      "$ speed        \u001b[3m\u001b[90m<int>\u001b[39m\u001b[23m NA, NA, NA, NA, NA, NA, NA, NA, NA, NA, NA, NA, NA, NA, N…\n",
      "$ engine       \u001b[3m\u001b[90m<chr>\u001b[39m\u001b[23m \"Turbo-fan\", \"Turbo-fan\", \"Turbo-fan\", \"Turbo-fan\", \"Turb…\n"
     ],
     "output_type":"stream"
    }
   ],
   "metadata":{
    "datalore":{
     "node_id":"x1dkJXijKQtMTNnfpBnbAA",
     "type":"CODE",
     "hide_input_from_viewers":false,
     "hide_output_from_viewers":false
    }
   }
  },
  {
   "cell_type":"markdown",
   "source":[
    "Q1 : Which carrier has most flights in feb 2013 ?"
   ],
   "attachments":{
    
   },
   "metadata":{
    "datalore":{
     "node_id":"edFFdZlBP6IQGolYLBxxGi",
     "type":"MD",
     "hide_input_from_viewers":false,
     "hide_output_from_viewers":false
    }
   }
  },
  {
   "cell_type":"code",
   "source":[
    "clean_flight %>% \n",
    "    filter( month == 2 , year == 2013)  %>%\n",
    "    group_by (carrier) %>%\n",
    "    summarise (number_of_flight = n()) %>%\n",
    "    arrange(desc(number_of_flight)) %>%\n",
    "    left_join (airlines , by = \"carrier\") %>%\n",
    "    head(10)"
   ],
   "execution_count":80,
   "outputs":[
    {
     "data":{
      "text\/html":[
       "<table class=\"dataframe\">\n",
       "<caption>A tibble: 10 × 3<\/caption>\n",
       "<thead>\n",
       "\t<tr><th scope=col>carrier<\/th><th scope=col>number_of_flight<\/th><th scope=col>name<\/th><\/tr>\n",
       "\t<tr><th scope=col>&lt;chr&gt;<\/th><th scope=col>&lt;int&gt;<\/th><th scope=col>&lt;chr&gt;<\/th><\/tr>\n",
       "<\/thead>\n",
       "<tbody>\n",
       "\t<tr><td>UA<\/td><td>4157<\/td><td>United Air Lines Inc.      <\/td><\/tr>\n",
       "\t<tr><td>B6<\/td><td>3945<\/td><td>JetBlue Airways            <\/td><\/tr>\n",
       "\t<tr><td>EV<\/td><td>3539<\/td><td>ExpressJet Airlines Inc.   <\/td><\/tr>\n",
       "\t<tr><td>DL<\/td><td>3303<\/td><td>Delta Air Lines Inc.       <\/td><\/tr>\n",
       "\t<tr><td>AA<\/td><td>2399<\/td><td>American Airlines Inc.     <\/td><\/tr>\n",
       "\t<tr><td>MQ<\/td><td>1894<\/td><td>Envoy Air                  <\/td><\/tr>\n",
       "\t<tr><td>US<\/td><td>1456<\/td><td>US Airways Inc.            <\/td><\/tr>\n",
       "\t<tr><td>9E<\/td><td>1341<\/td><td>Endeavor Air Inc.          <\/td><\/tr>\n",
       "\t<tr><td>WN<\/td><td> 858<\/td><td>Southwest Airlines Co.     <\/td><\/tr>\n",
       "\t<tr><td>FL<\/td><td> 282<\/td><td>AirTran Airways Corporation<\/td><\/tr>\n",
       "<\/tbody>\n",
       "<\/table>\n"
      ]
     },
     "metadata":{
      
     },
     "output_type":"display_data"
    }
   ],
   "metadata":{
    "datalore":{
     "node_id":"QdblD1NdwpagShyZnPgEM2",
     "type":"CODE",
     "hide_input_from_viewers":false,
     "hide_output_from_viewers":false
    }
   }
  },
  {
   "cell_type":"markdown",
   "source":[
    "United Airline is the most flights in 2013"
   ],
   "attachments":{
    
   },
   "metadata":{
    "datalore":{
     "node_id":"aS50P6j2LF8VkpyheMc52N",
     "type":"MD",
     "hide_input_from_viewers":false,
     "hide_output_from_viewers":false
    }
   }
  },
  {
   "cell_type":"code",
   "source":[
    "Q2 : Which Airports has the most fight destination in mar 2013 ?"
   ],
   "execution_count":null,
   "outputs":[
    
   ],
   "metadata":{
    "datalore":{
     "node_id":"K9ZhLKPjhI2X1rygawT9XE",
     "type":"CODE",
     "hide_input_from_viewers":false,
     "hide_output_from_viewers":false
    }
   }
  },
  {
   "cell_type":"code",
   "source":[
    "clean_flight %>%\n",
    "    filter( month == 3 , year == 2013) %>%\n",
    "    group_by (dest) %>%\n",
    "    summarise (number_of_flight = n()) %>%\n",
    "    arrange(desc(number_of_flight)) %>%\n",
    "    left_join (airports, by=c(\"dest\" = \"faa\")) %>%\n",
    "    select (name , number_of_flight) %>%\n",
    "    head(10)"
   ],
   "execution_count":71,
   "outputs":[
    {
     "data":{
      "text\/html":[
       "<table class=\"dataframe\">\n",
       "<caption>A tibble: 10 × 2<\/caption>\n",
       "<thead>\n",
       "\t<tr><th scope=col>name<\/th><th scope=col>number_of_flight<\/th><\/tr>\n",
       "\t<tr><th scope=col>&lt;chr&gt;<\/th><th scope=col>&lt;int&gt;<\/th><\/tr>\n",
       "<\/thead>\n",
       "<tbody>\n",
       "\t<tr><td>Hartsfield Jackson Atlanta Intl   <\/td><td>1400<\/td><\/tr>\n",
       "\t<tr><td>Chicago Ohare Intl                <\/td><td>1294<\/td><\/tr>\n",
       "\t<tr><td>General Edward Lawrence Logan Intl<\/td><td>1277<\/td><\/tr>\n",
       "\t<tr><td>Orlando Intl                      <\/td><td>1258<\/td><\/tr>\n",
       "\t<tr><td>Fort Lauderdale Hollywood Intl    <\/td><td>1229<\/td><\/tr>\n",
       "\t<tr><td>Los Angeles Intl                  <\/td><td>1164<\/td><\/tr>\n",
       "\t<tr><td>Charlotte Douglas Intl            <\/td><td>1127<\/td><\/tr>\n",
       "\t<tr><td>Miami Intl                        <\/td><td>1008<\/td><\/tr>\n",
       "\t<tr><td>San Francisco Intl                <\/td><td> 873<\/td><\/tr>\n",
       "\t<tr><td>Ronald Reagan Washington Natl     <\/td><td> 844<\/td><\/tr>\n",
       "<\/tbody>\n",
       "<\/table>\n"
      ]
     },
     "metadata":{
      
     },
     "output_type":"display_data"
    }
   ],
   "metadata":{
    "datalore":{
     "node_id":"lNwBqhyNEPJ5Ecutt663r2",
     "type":"CODE",
     "hide_input_from_viewers":false,
     "hide_output_from_viewers":false
    }
   }
  },
  {
   "cell_type":"markdown",
   "source":[
    "ANS: Hatsafield Jackson Atlanta Intl"
   ],
   "attachments":{
    
   },
   "metadata":{
    "datalore":{
     "node_id":"sgZbmh1CdygCm5qO29okIv",
     "type":"MD",
     "hide_input_from_viewers":false,
     "hide_output_from_viewers":false
    }
   }
  },
  {
   "cell_type":"code",
   "source":[
    "Q3: Top 5 Flights Carrier has the most Departure Delay in 2013 ?"
   ],
   "execution_count":null,
   "outputs":[
    
   ],
   "metadata":{
    "datalore":{
     "node_id":"1AQBJpDJQaz8bRSUeUNDVJ",
     "type":"CODE",
     "hide_input_from_viewers":false,
     "hide_output_from_viewers":false
    }
   }
  },
  {
   "cell_type":"code",
   "source":[
    "clean_flight %>% \n",
    "    group_by(carrier) %>%\n",
    "    filter (dep_delay > 0) %>%\n",
    "    select (carrier , dep_delay) %>%\n",
    "    summarise(total_delay_minutes = sum(dep_delay)) %>%\n",
    "    arrange (desc(total_delay_minutes)) %>%\n",
    "    left_join (airlines) %>%\n",
    "    head(5)\n",
    "    "
   ],
   "execution_count":48,
   "outputs":[
    {
     "name":"stderr",
     "text":[
      "Joining, by = \"carrier\"\n",
      "\n"
     ],
     "output_type":"stream"
    },
    {
     "data":{
      "text\/html":[
       "<table class=\"dataframe\">\n",
       "<caption>A tibble: 5 × 3<\/caption>\n",
       "<thead>\n",
       "\t<tr><th scope=col>carrier<\/th><th scope=col>total_delay_minutes<\/th><th scope=col>name<\/th><\/tr>\n",
       "\t<tr><th scope=col>&lt;chr&gt;<\/th><th scope=col>&lt;int&gt;<\/th><th scope=col>&lt;chr&gt;<\/th><\/tr>\n",
       "<\/thead>\n",
       "<tbody>\n",
       "\t<tr><td>EV<\/td><td>1153276<\/td><td>ExpressJet Airlines Inc.<\/td><\/tr>\n",
       "\t<tr><td>B6<\/td><td> 848677<\/td><td>JetBlue Airways         <\/td><\/tr>\n",
       "\t<tr><td>UA<\/td><td> 808059<\/td><td>United Air Lines Inc.   <\/td><\/tr>\n",
       "\t<tr><td>DL<\/td><td> 566960<\/td><td>Delta Air Lines Inc.    <\/td><\/tr>\n",
       "\t<tr><td>AA<\/td><td> 375528<\/td><td>American Airlines Inc.  <\/td><\/tr>\n",
       "<\/tbody>\n",
       "<\/table>\n"
      ]
     },
     "metadata":{
      
     },
     "output_type":"display_data"
    }
   ],
   "metadata":{
    "datalore":{
     "node_id":"fTnrRDcUEsGYTFoYkrK7DE",
     "type":"CODE",
     "hide_input_from_viewers":false,
     "hide_output_from_viewers":false
    }
   }
  },
  {
   "cell_type":"markdown",
   "source":[
    "Q4: Which the longest flights in oct 2013 ?"
   ],
   "attachments":{
    
   },
   "metadata":{
    "datalore":{
     "node_id":"yKRMGuUPz1nbSm7g1R5xyP",
     "type":"MD",
     "hide_input_from_viewers":false,
     "hide_output_from_viewers":false
    }
   }
  },
  {
   "cell_type":"code",
   "source":[
    "clean_flight %>%\n",
    "    filter ( month == 3 , year == 2013) %>%\n",
    "    left_join (airports, by=c(\"origin\" = \"faa\")) %>%\n",
    "    left_join (airports , by=c(\"dest\" = \"faa\")) %>%\n",
    "    select ( flight , air_time ,tailnum ,origin_airport = name.x , dest_airport = name.y) %>%\n",
    "    arrange (desc(air_time)) %>%\n",
    "    head (1)"
   ],
   "execution_count":40,
   "outputs":[
    {
     "data":{
      "text\/html":[
       "<table class=\"dataframe\">\n",
       "<caption>A data.frame: 1 × 5<\/caption>\n",
       "<thead>\n",
       "\t<tr><th><\/th><th scope=col>flight<\/th><th scope=col>air_time<\/th><th scope=col>tailnum<\/th><th scope=col>origin_airport<\/th><th scope=col>dest_airport<\/th><\/tr>\n",
       "\t<tr><th><\/th><th scope=col>&lt;int&gt;<\/th><th scope=col>&lt;int&gt;<\/th><th scope=col>&lt;chr&gt;<\/th><th scope=col>&lt;chr&gt;<\/th><th scope=col>&lt;chr&gt;<\/th><\/tr>\n",
       "<\/thead>\n",
       "<tbody>\n",
       "\t<tr><th scope=row>1<\/th><td>15<\/td><td>695<\/td><td>N77066<\/td><td>Newark Liberty Intl<\/td><td>Honolulu Intl<\/td><\/tr>\n",
       "<\/tbody>\n",
       "<\/table>\n"
      ]
     },
     "metadata":{
      
     },
     "output_type":"display_data"
    }
   ],
   "metadata":{
    "datalore":{
     "node_id":"OltgPBmlSgTNqJ5s2to68e",
     "type":"CODE",
     "hide_input_from_viewers":false,
     "hide_output_from_viewers":false
    }
   }
  },
  {
   "cell_type":"markdown",
   "source":[
    "the longest flight is form Newark Liberty Intl to Honolulu Intl"
   ],
   "attachments":{
    
   },
   "metadata":{
    "datalore":{
     "node_id":"528kt6xGuJqHIUtWqA5Jrr",
     "type":"MD",
     "hide_input_from_viewers":false,
     "hide_output_from_viewers":false
    }
   }
  },
  {
   "cell_type":"markdown",
   "source":[
    "Q5: Which flights are most flying on the same route?"
   ],
   "attachments":{
    
   },
   "metadata":{
    "datalore":{
     "node_id":"9u3AqgII55KHyFAz1OUYwf",
     "type":"MD",
     "hide_input_from_viewers":false,
     "hide_output_from_viewers":false
    }
   }
  },
  {
   "cell_type":"code",
   "source":[
    "clean_flight %>%\n",
    "    filter ( year == 2013 ) %>%\n",
    "    group_by (tailnum , origin , dest)  %>%\n",
    "    summarise (number_of_flight = n() , .groups = 'drop' ) %>%\n",
    "    arrange (desc(number_of_flight)) %>%\n",
    "    head(1)\n",
    "    \n",
    "    "
   ],
   "execution_count":93,
   "outputs":[
    {
     "data":{
      "text\/html":[
       "<table class=\"dataframe\">\n",
       "<caption>A tibble: 1 × 4<\/caption>\n",
       "<thead>\n",
       "\t<tr><th scope=col>tailnum<\/th><th scope=col>origin<\/th><th scope=col>dest<\/th><th scope=col>number_of_flight<\/th><\/tr>\n",
       "\t<tr><th scope=col>&lt;chr&gt;<\/th><th scope=col>&lt;chr&gt;<\/th><th scope=col>&lt;chr&gt;<\/th><th scope=col>&lt;int&gt;<\/th><\/tr>\n",
       "<\/thead>\n",
       "<tbody>\n",
       "\t<tr><td>N328AA<\/td><td>JFK<\/td><td>LAX<\/td><td>310<\/td><\/tr>\n",
       "<\/tbody>\n",
       "<\/table>\n"
      ]
     },
     "metadata":{
      
     },
     "output_type":"display_data"
    }
   ],
   "metadata":{
    "datalore":{
     "node_id":"SWzGSFmDzvaMmUJrWqgYHy",
     "type":"CODE",
     "hide_input_from_viewers":false,
     "hide_output_from_viewers":false
    }
   }
  }
 ],
 "metadata":{
  "kernelspec":{
   "display_name":"R",
   "language":"r",
   "name":"ir"
  },
  "datalore":{
   "version":1,
   "computation_mode":"JUPYTER",
   "package_manager":"conda",
   "base_environment":"minimal",
   "packages":[
    
   ]
  }
 },
 "nbformat":4,
 "nbformat_minor":4
}